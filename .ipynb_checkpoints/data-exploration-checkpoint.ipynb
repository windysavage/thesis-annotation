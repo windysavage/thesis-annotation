{
 "cells": [
  {
   "cell_type": "code",
   "execution_count": 1,
   "metadata": {},
   "outputs": [],
   "source": [
    "import matplotlib.pyplot as plt\n",
    "import pandas as pd\n",
    "import numpy as np\n",
    "import seaborn as sns\n",
    "import plotly\n",
    "import nltk\n",
    "import os\n",
    "import math\n",
    "\n",
    "import plotly.graph_objects as go\n",
    "from plotly.subplots import make_subplots"
   ]
  },
  {
   "cell_type": "code",
   "execution_count": 2,
   "metadata": {},
   "outputs": [],
   "source": [
    "df = pd.read_csv('dataset/task1_trainset.csv')"
   ]
  },
  {
   "cell_type": "code",
   "execution_count": 3,
   "metadata": {},
   "outputs": [
    {
     "data": {
      "text/html": [
       "<div>\n",
       "<style scoped>\n",
       "    .dataframe tbody tr th:only-of-type {\n",
       "        vertical-align: middle;\n",
       "    }\n",
       "\n",
       "    .dataframe tbody tr th {\n",
       "        vertical-align: top;\n",
       "    }\n",
       "\n",
       "    .dataframe thead th {\n",
       "        text-align: right;\n",
       "    }\n",
       "</style>\n",
       "<table border=\"1\" class=\"dataframe\">\n",
       "  <thead>\n",
       "    <tr style=\"text-align: right;\">\n",
       "      <th></th>\n",
       "      <th>Id</th>\n",
       "      <th>Title</th>\n",
       "      <th>Abstract</th>\n",
       "      <th>Authors</th>\n",
       "      <th>Categories</th>\n",
       "      <th>Created Date</th>\n",
       "      <th>Task 1</th>\n",
       "    </tr>\n",
       "  </thead>\n",
       "  <tbody>\n",
       "    <tr>\n",
       "      <th>0</th>\n",
       "      <td>D00001</td>\n",
       "      <td>A Brain-Inspired Trust Management Model to Ass...</td>\n",
       "      <td>Rapid popularity of Internet of Things (IoT) a...</td>\n",
       "      <td>Mahmud/Kaiser/Rahman/Rahman/Shabut/Al-Mamun/Hu...</td>\n",
       "      <td>cs.CR/cs.AI/q-bio.NC</td>\n",
       "      <td>2018-01-11</td>\n",
       "      <td>BACKGROUND OBJECTIVES METHODS METHODS RESULTS ...</td>\n",
       "    </tr>\n",
       "    <tr>\n",
       "      <th>1</th>\n",
       "      <td>D00002</td>\n",
       "      <td>On Efficient Computation of Shortest Dubins Pa...</td>\n",
       "      <td>In this paper, we address the problem of compu...</td>\n",
       "      <td>Sadeghi/Smith</td>\n",
       "      <td>cs.SY/cs.RO/math.OC</td>\n",
       "      <td>2016-09-21</td>\n",
       "      <td>OBJECTIVES OTHERS METHODS/RESULTS RESULTS RESULTS</td>\n",
       "    </tr>\n",
       "    <tr>\n",
       "      <th>2</th>\n",
       "      <td>D00003</td>\n",
       "      <td>Data-driven Upsampling of Point Clouds</td>\n",
       "      <td>High quality upsampling of sparse 3D point clo...</td>\n",
       "      <td>Zhang/Jiang/Yang/Yamakawa/Shimada/Kara</td>\n",
       "      <td>cs.CV</td>\n",
       "      <td>2018-07-07</td>\n",
       "      <td>BACKGROUND OBJECTIVES METHODS METHODS METHODS ...</td>\n",
       "    </tr>\n",
       "    <tr>\n",
       "      <th>3</th>\n",
       "      <td>D00004</td>\n",
       "      <td>Accessibility or Usability of InteractSE? A He...</td>\n",
       "      <td>Internet is the main source of information now...</td>\n",
       "      <td>Aqle/Khowaja/Al-Thani</td>\n",
       "      <td>cs.HC</td>\n",
       "      <td>2018-08-29</td>\n",
       "      <td>BACKGROUND BACKGROUND BACKGROUND OBJECTIVES OB...</td>\n",
       "    </tr>\n",
       "    <tr>\n",
       "      <th>4</th>\n",
       "      <td>D00005</td>\n",
       "      <td>Spatio-Temporal Facial Expression Recognition ...</td>\n",
       "      <td>Automated Facial Expression Recognition (FER) ...</td>\n",
       "      <td>Hasani/Mahoor</td>\n",
       "      <td>cs.CV</td>\n",
       "      <td>2017-03-20</td>\n",
       "      <td>BACKGROUND BACKGROUND BACKGROUND BACKGROUND ME...</td>\n",
       "    </tr>\n",
       "    <tr>\n",
       "      <th>5</th>\n",
       "      <td>D00006</td>\n",
       "      <td>Continuous Semantic Topic Embedding Model Usin...</td>\n",
       "      <td>This paper proposes the continuous semantic to...</td>\n",
       "      <td>Jung/Choi</td>\n",
       "      <td>stat.ML/cs.CL/cs.LG</td>\n",
       "      <td>2017-11-24</td>\n",
       "      <td>OBJECTIVES/METHODS METHODS CONCLUSIONS RESULTS...</td>\n",
       "    </tr>\n",
       "    <tr>\n",
       "      <th>6</th>\n",
       "      <td>D00007</td>\n",
       "      <td>Beyond Shared Hierarchies: Deep Multitask Lear...</td>\n",
       "      <td>Existing deep multitask learning (MTL) approac...</td>\n",
       "      <td>Meyerson/Miikkulainen</td>\n",
       "      <td>cs.LG/cs.AI/stat.ML</td>\n",
       "      <td>2017-10-31</td>\n",
       "      <td>BACKGROUND BACKGROUND/OBJECTIVES OBJECTIVES/ME...</td>\n",
       "    </tr>\n",
       "    <tr>\n",
       "      <th>7</th>\n",
       "      <td>D00008</td>\n",
       "      <td>Using Scalp Electrical Biosignals to Control a...</td>\n",
       "      <td>In this paper we explore the use of electrical...</td>\n",
       "      <td>George/Lotte/Abad/Lécuyer</td>\n",
       "      <td>cs.OH</td>\n",
       "      <td>2011-11-08</td>\n",
       "      <td>OBJECTIVES METHODS METHODS METHODS METHODS RES...</td>\n",
       "    </tr>\n",
       "    <tr>\n",
       "      <th>8</th>\n",
       "      <td>D00009</td>\n",
       "      <td>Robustness from structure: Inference with hier...</td>\n",
       "      <td>How spiking networks are able to perform proba...</td>\n",
       "      <td>Petrovici/Schroeder/Breitwieser/Grübl/Schemmel...</td>\n",
       "      <td>q-bio.NC/cs.NE/stat.ML</td>\n",
       "      <td>2017-03-12</td>\n",
       "      <td>BACKGROUND/OBJECTIVES BACKGROUND BACKGROUND/ME...</td>\n",
       "    </tr>\n",
       "    <tr>\n",
       "      <th>9</th>\n",
       "      <td>D00010</td>\n",
       "      <td>Statistical Mechanical Analysis of Low-Density...</td>\n",
       "      <td>Low-density parity-check (LDPC) codes on symme...</td>\n",
       "      <td>Mori/Tanaka</td>\n",
       "      <td>cs.IT/math.IT</td>\n",
       "      <td>2011-10-10</td>\n",
       "      <td>BACKGROUND OBJECTIVES RESULTS/CONCLUSIONS METHODS</td>\n",
       "    </tr>\n",
       "  </tbody>\n",
       "</table>\n",
       "</div>"
      ],
      "text/plain": [
       "       Id                                              Title  \\\n",
       "0  D00001  A Brain-Inspired Trust Management Model to Ass...   \n",
       "1  D00002  On Efficient Computation of Shortest Dubins Pa...   \n",
       "2  D00003             Data-driven Upsampling of Point Clouds   \n",
       "3  D00004  Accessibility or Usability of InteractSE? A He...   \n",
       "4  D00005  Spatio-Temporal Facial Expression Recognition ...   \n",
       "5  D00006  Continuous Semantic Topic Embedding Model Usin...   \n",
       "6  D00007  Beyond Shared Hierarchies: Deep Multitask Lear...   \n",
       "7  D00008  Using Scalp Electrical Biosignals to Control a...   \n",
       "8  D00009  Robustness from structure: Inference with hier...   \n",
       "9  D00010  Statistical Mechanical Analysis of Low-Density...   \n",
       "\n",
       "                                            Abstract  \\\n",
       "0  Rapid popularity of Internet of Things (IoT) a...   \n",
       "1  In this paper, we address the problem of compu...   \n",
       "2  High quality upsampling of sparse 3D point clo...   \n",
       "3  Internet is the main source of information now...   \n",
       "4  Automated Facial Expression Recognition (FER) ...   \n",
       "5  This paper proposes the continuous semantic to...   \n",
       "6  Existing deep multitask learning (MTL) approac...   \n",
       "7  In this paper we explore the use of electrical...   \n",
       "8  How spiking networks are able to perform proba...   \n",
       "9  Low-density parity-check (LDPC) codes on symme...   \n",
       "\n",
       "                                             Authors              Categories  \\\n",
       "0  Mahmud/Kaiser/Rahman/Rahman/Shabut/Al-Mamun/Hu...    cs.CR/cs.AI/q-bio.NC   \n",
       "1                                      Sadeghi/Smith     cs.SY/cs.RO/math.OC   \n",
       "2             Zhang/Jiang/Yang/Yamakawa/Shimada/Kara                   cs.CV   \n",
       "3                              Aqle/Khowaja/Al-Thani                   cs.HC   \n",
       "4                                      Hasani/Mahoor                   cs.CV   \n",
       "5                                          Jung/Choi     stat.ML/cs.CL/cs.LG   \n",
       "6                              Meyerson/Miikkulainen     cs.LG/cs.AI/stat.ML   \n",
       "7                          George/Lotte/Abad/Lécuyer                   cs.OH   \n",
       "8  Petrovici/Schroeder/Breitwieser/Grübl/Schemmel...  q-bio.NC/cs.NE/stat.ML   \n",
       "9                                        Mori/Tanaka           cs.IT/math.IT   \n",
       "\n",
       "  Created Date                                             Task 1  \n",
       "0   2018-01-11  BACKGROUND OBJECTIVES METHODS METHODS RESULTS ...  \n",
       "1   2016-09-21  OBJECTIVES OTHERS METHODS/RESULTS RESULTS RESULTS  \n",
       "2   2018-07-07  BACKGROUND OBJECTIVES METHODS METHODS METHODS ...  \n",
       "3   2018-08-29  BACKGROUND BACKGROUND BACKGROUND OBJECTIVES OB...  \n",
       "4   2017-03-20  BACKGROUND BACKGROUND BACKGROUND BACKGROUND ME...  \n",
       "5   2017-11-24  OBJECTIVES/METHODS METHODS CONCLUSIONS RESULTS...  \n",
       "6   2017-10-31  BACKGROUND BACKGROUND/OBJECTIVES OBJECTIVES/ME...  \n",
       "7   2011-11-08  OBJECTIVES METHODS METHODS METHODS METHODS RES...  \n",
       "8   2017-03-12  BACKGROUND/OBJECTIVES BACKGROUND BACKGROUND/ME...  \n",
       "9   2011-10-10  BACKGROUND OBJECTIVES RESULTS/CONCLUSIONS METHODS  "
      ]
     },
     "execution_count": 3,
     "metadata": {},
     "output_type": "execute_result"
    }
   ],
   "source": [
    "df.head(10)"
   ]
  },
  {
   "cell_type": "code",
   "execution_count": 9,
   "metadata": {},
   "outputs": [
    {
     "data": {
      "text/plain": [
       "0"
      ]
     },
     "execution_count": 9,
     "metadata": {},
     "output_type": "execute_result"
    }
   ],
   "source": [
    "df['Abstract'].isnull().sum()"
   ]
  },
  {
   "cell_type": "code",
   "execution_count": 18,
   "metadata": {},
   "outputs": [
    {
     "data": {
      "text/html": [
       "<div>\n",
       "<style scoped>\n",
       "    .dataframe tbody tr th:only-of-type {\n",
       "        vertical-align: middle;\n",
       "    }\n",
       "\n",
       "    .dataframe tbody tr th {\n",
       "        vertical-align: top;\n",
       "    }\n",
       "\n",
       "    .dataframe thead th {\n",
       "        text-align: right;\n",
       "    }\n",
       "</style>\n",
       "<table border=\"1\" class=\"dataframe\">\n",
       "  <thead>\n",
       "    <tr style=\"text-align: right;\">\n",
       "      <th></th>\n",
       "      <th>Id</th>\n",
       "      <th>Title</th>\n",
       "      <th>Abstract</th>\n",
       "      <th>Authors</th>\n",
       "      <th>Categories</th>\n",
       "      <th>Created Date</th>\n",
       "      <th>Task 1</th>\n",
       "    </tr>\n",
       "  </thead>\n",
       "  <tbody>\n",
       "    <tr>\n",
       "      <th>4266</th>\n",
       "      <td>D04267</td>\n",
       "      <td>Applying an XML Warehouse to Social Network An...</td>\n",
       "      <td>In this paper we present the state of advancem...</td>\n",
       "      <td>Nguyen/Vion/Dudouet/Saint-Ghislain</td>\n",
       "      <td>cs.DB/cs.CY</td>\n",
       "      <td>2009-12-04</td>\n",
       "      <td>RESULTS OBJECTIVES RESULTS/CONCLUSIONS</td>\n",
       "    </tr>\n",
       "    <tr>\n",
       "      <th>6994</th>\n",
       "      <td>D06995</td>\n",
       "      <td>The WebStand Project</td>\n",
       "      <td>In this paper we present the state of advancem...</td>\n",
       "      <td>Nguyen/Dudouet/Colazzo/Vion/Manolescu/Senellart</td>\n",
       "      <td>cs.DB</td>\n",
       "      <td>2010-02-04</td>\n",
       "      <td>RESULTS OBJECTIVES RESULTS</td>\n",
       "    </tr>\n",
       "  </tbody>\n",
       "</table>\n",
       "</div>"
      ],
      "text/plain": [
       "          Id                                              Title  \\\n",
       "4266  D04267  Applying an XML Warehouse to Social Network An...   \n",
       "6994  D06995                               The WebStand Project   \n",
       "\n",
       "                                               Abstract  \\\n",
       "4266  In this paper we present the state of advancem...   \n",
       "6994  In this paper we present the state of advancem...   \n",
       "\n",
       "                                              Authors   Categories  \\\n",
       "4266               Nguyen/Vion/Dudouet/Saint-Ghislain  cs.DB/cs.CY   \n",
       "6994  Nguyen/Dudouet/Colazzo/Vion/Manolescu/Senellart        cs.DB   \n",
       "\n",
       "     Created Date                                  Task 1  \n",
       "4266   2009-12-04  RESULTS OBJECTIVES RESULTS/CONCLUSIONS  \n",
       "6994   2010-02-04              RESULTS OBJECTIVES RESULTS  "
      ]
     },
     "execution_count": 18,
     "metadata": {},
     "output_type": "execute_result"
    }
   ],
   "source": [
    "# One duplicated abstract --> same sentences , different labels!!!! \n",
    "\n",
    "df[df['Abstract'].duplicated(keep=False)]"
   ]
  },
  {
   "cell_type": "code",
   "execution_count": 19,
   "metadata": {},
   "outputs": [
    {
     "data": {
      "text/plain": [
       "['Rapid popularity of Internet of Things (IoT) and cloud computing permits neuroscientists to collect multilevel and multichannel brain data to better understand brain functions, diagnose diseases, and devise treatments.',\n",
       " 'To ensure secure and reliable data communication between end-to-end (E2E) devices supported by current IoT and cloud infrastructure, trust management is needed at the IoT and user ends.',\n",
       " 'This paper introduces a Neuro-Fuzzy based Brain-inspired trust management model (TMM) to secure IoT devices and relay nodes, and to ensure data reliability.',\n",
       " 'The proposed TMM utilizes node behavioral trust and data trust estimated using Adaptive Neuro-Fuzzy Inference System and weighted-additive methods respectively to assess the nodes trustworthiness.',\n",
       " 'In contrast to the existing fuzzy based TMMs, the NS2 simulation results confirm the robustness and accuracy of the proposed TMM in identifying malicious nodes in the communication network.',\n",
       " 'With the growing usage of cloud based IoT frameworks in Neuroscience research, integrating the proposed TMM into the existing infrastructure will assure secure and reliable data communication among the E2E devices.']"
      ]
     },
     "execution_count": 19,
     "metadata": {},
     "output_type": "execute_result"
    }
   ],
   "source": [
    "df['Abstract'].iloc[0].split('$$$')"
   ]
  },
  {
   "cell_type": "code",
   "execution_count": 20,
   "metadata": {},
   "outputs": [],
   "source": [
    "columns = ['Id','Title','Sentences','Authors',\n",
    "           'Categories','Created Date','Label']\n",
    "df_extend = pd.DataFrame(columns=columns)"
   ]
  },
  {
   "cell_type": "code",
   "execution_count": 21,
   "metadata": {},
   "outputs": [
    {
     "data": {
      "text/html": [
       "<div>\n",
       "<style scoped>\n",
       "    .dataframe tbody tr th:only-of-type {\n",
       "        vertical-align: middle;\n",
       "    }\n",
       "\n",
       "    .dataframe tbody tr th {\n",
       "        vertical-align: top;\n",
       "    }\n",
       "\n",
       "    .dataframe thead th {\n",
       "        text-align: right;\n",
       "    }\n",
       "</style>\n",
       "<table border=\"1\" class=\"dataframe\">\n",
       "  <thead>\n",
       "    <tr style=\"text-align: right;\">\n",
       "      <th></th>\n",
       "      <th>Id</th>\n",
       "      <th>Title</th>\n",
       "      <th>Sentences</th>\n",
       "      <th>Authors</th>\n",
       "      <th>Categories</th>\n",
       "      <th>Created Date</th>\n",
       "      <th>Label</th>\n",
       "    </tr>\n",
       "  </thead>\n",
       "  <tbody>\n",
       "  </tbody>\n",
       "</table>\n",
       "</div>"
      ],
      "text/plain": [
       "Empty DataFrame\n",
       "Columns: [Id, Title, Sentences, Authors, Categories, Created Date, Label]\n",
       "Index: []"
      ]
     },
     "execution_count": 21,
     "metadata": {},
     "output_type": "execute_result"
    }
   ],
   "source": [
    "df_extend"
   ]
  },
  {
   "cell_type": "code",
   "execution_count": 22,
   "metadata": {
    "scrolled": true
   },
   "outputs": [
    {
     "name": "stdout",
     "output_type": "stream",
     "text": [
      "0\n",
      "500\n",
      "1000\n",
      "1500\n",
      "2000\n",
      "2500\n",
      "3000\n",
      "3500\n",
      "4000\n",
      "4500\n",
      "5000\n",
      "5500\n",
      "6000\n",
      "6500\n"
     ]
    }
   ],
   "source": [
    "for index, row in df.iterrows():\n",
    "    sentences = row['Abstract'].split('$$$')\n",
    "    labels = row['Task 1'].split(' ')\n",
    "    \n",
    "    if index%500==0:\n",
    "        print(index)\n",
    "        \n",
    "    for i in range(len(sentences)):\n",
    "        s = pd.Series({'Id':row['Id'], 'Title':row['Title'],'Sentences':sentences[i],\n",
    "                      'Authors':row['Authors'] , 'Categories':row['Categories'],\n",
    "                      'Created Date':row['Created Date'],'Label':labels[i]})\n",
    "        df_extend = df_extend.append(s, ignore_index=True)"
   ]
  },
  {
   "cell_type": "code",
   "execution_count": 23,
   "metadata": {},
   "outputs": [
    {
     "data": {
      "text/html": [
       "<div>\n",
       "<style scoped>\n",
       "    .dataframe tbody tr th:only-of-type {\n",
       "        vertical-align: middle;\n",
       "    }\n",
       "\n",
       "    .dataframe tbody tr th {\n",
       "        vertical-align: top;\n",
       "    }\n",
       "\n",
       "    .dataframe thead th {\n",
       "        text-align: right;\n",
       "    }\n",
       "</style>\n",
       "<table border=\"1\" class=\"dataframe\">\n",
       "  <thead>\n",
       "    <tr style=\"text-align: right;\">\n",
       "      <th></th>\n",
       "      <th>Id</th>\n",
       "      <th>Title</th>\n",
       "      <th>Sentences</th>\n",
       "      <th>Authors</th>\n",
       "      <th>Categories</th>\n",
       "      <th>Created Date</th>\n",
       "      <th>Label</th>\n",
       "    </tr>\n",
       "  </thead>\n",
       "  <tbody>\n",
       "    <tr>\n",
       "      <th>0</th>\n",
       "      <td>D00001</td>\n",
       "      <td>A Brain-Inspired Trust Management Model to Ass...</td>\n",
       "      <td>Rapid popularity of Internet of Things (IoT) a...</td>\n",
       "      <td>Mahmud/Kaiser/Rahman/Rahman/Shabut/Al-Mamun/Hu...</td>\n",
       "      <td>cs.CR/cs.AI/q-bio.NC</td>\n",
       "      <td>2018-01-11</td>\n",
       "      <td>BACKGROUND</td>\n",
       "    </tr>\n",
       "    <tr>\n",
       "      <th>1</th>\n",
       "      <td>D00001</td>\n",
       "      <td>A Brain-Inspired Trust Management Model to Ass...</td>\n",
       "      <td>To ensure secure and reliable data communicati...</td>\n",
       "      <td>Mahmud/Kaiser/Rahman/Rahman/Shabut/Al-Mamun/Hu...</td>\n",
       "      <td>cs.CR/cs.AI/q-bio.NC</td>\n",
       "      <td>2018-01-11</td>\n",
       "      <td>OBJECTIVES</td>\n",
       "    </tr>\n",
       "    <tr>\n",
       "      <th>2</th>\n",
       "      <td>D00001</td>\n",
       "      <td>A Brain-Inspired Trust Management Model to Ass...</td>\n",
       "      <td>This paper introduces a Neuro-Fuzzy based Brai...</td>\n",
       "      <td>Mahmud/Kaiser/Rahman/Rahman/Shabut/Al-Mamun/Hu...</td>\n",
       "      <td>cs.CR/cs.AI/q-bio.NC</td>\n",
       "      <td>2018-01-11</td>\n",
       "      <td>METHODS</td>\n",
       "    </tr>\n",
       "    <tr>\n",
       "      <th>3</th>\n",
       "      <td>D00001</td>\n",
       "      <td>A Brain-Inspired Trust Management Model to Ass...</td>\n",
       "      <td>The proposed TMM utilizes node behavioral trus...</td>\n",
       "      <td>Mahmud/Kaiser/Rahman/Rahman/Shabut/Al-Mamun/Hu...</td>\n",
       "      <td>cs.CR/cs.AI/q-bio.NC</td>\n",
       "      <td>2018-01-11</td>\n",
       "      <td>METHODS</td>\n",
       "    </tr>\n",
       "    <tr>\n",
       "      <th>4</th>\n",
       "      <td>D00001</td>\n",
       "      <td>A Brain-Inspired Trust Management Model to Ass...</td>\n",
       "      <td>In contrast to the existing fuzzy based TMMs, ...</td>\n",
       "      <td>Mahmud/Kaiser/Rahman/Rahman/Shabut/Al-Mamun/Hu...</td>\n",
       "      <td>cs.CR/cs.AI/q-bio.NC</td>\n",
       "      <td>2018-01-11</td>\n",
       "      <td>RESULTS</td>\n",
       "    </tr>\n",
       "  </tbody>\n",
       "</table>\n",
       "</div>"
      ],
      "text/plain": [
       "       Id                                              Title  \\\n",
       "0  D00001  A Brain-Inspired Trust Management Model to Ass...   \n",
       "1  D00001  A Brain-Inspired Trust Management Model to Ass...   \n",
       "2  D00001  A Brain-Inspired Trust Management Model to Ass...   \n",
       "3  D00001  A Brain-Inspired Trust Management Model to Ass...   \n",
       "4  D00001  A Brain-Inspired Trust Management Model to Ass...   \n",
       "\n",
       "                                           Sentences  \\\n",
       "0  Rapid popularity of Internet of Things (IoT) a...   \n",
       "1  To ensure secure and reliable data communicati...   \n",
       "2  This paper introduces a Neuro-Fuzzy based Brai...   \n",
       "3  The proposed TMM utilizes node behavioral trus...   \n",
       "4  In contrast to the existing fuzzy based TMMs, ...   \n",
       "\n",
       "                                             Authors            Categories  \\\n",
       "0  Mahmud/Kaiser/Rahman/Rahman/Shabut/Al-Mamun/Hu...  cs.CR/cs.AI/q-bio.NC   \n",
       "1  Mahmud/Kaiser/Rahman/Rahman/Shabut/Al-Mamun/Hu...  cs.CR/cs.AI/q-bio.NC   \n",
       "2  Mahmud/Kaiser/Rahman/Rahman/Shabut/Al-Mamun/Hu...  cs.CR/cs.AI/q-bio.NC   \n",
       "3  Mahmud/Kaiser/Rahman/Rahman/Shabut/Al-Mamun/Hu...  cs.CR/cs.AI/q-bio.NC   \n",
       "4  Mahmud/Kaiser/Rahman/Rahman/Shabut/Al-Mamun/Hu...  cs.CR/cs.AI/q-bio.NC   \n",
       "\n",
       "  Created Date       Label  \n",
       "0   2018-01-11  BACKGROUND  \n",
       "1   2018-01-11  OBJECTIVES  \n",
       "2   2018-01-11     METHODS  \n",
       "3   2018-01-11     METHODS  \n",
       "4   2018-01-11     RESULTS  "
      ]
     },
     "execution_count": 23,
     "metadata": {},
     "output_type": "execute_result"
    }
   ],
   "source": [
    "df_extend.head(5)"
   ]
  },
  {
   "cell_type": "code",
   "execution_count": 24,
   "metadata": {},
   "outputs": [],
   "source": [
    "import helpers.data_mining_helpers as dmh"
   ]
  },
  {
   "cell_type": "code",
   "execution_count": 12,
   "metadata": {},
   "outputs": [],
   "source": [
    "df_extend['Tokens'] = df_extend.Sentences.apply(lambda x:dmh.tokenize_text(x))"
   ]
  },
  {
   "cell_type": "code",
   "execution_count": 14,
   "metadata": {},
   "outputs": [
    {
     "data": {
      "text/plain": [
       "(46867, 8)"
      ]
     },
     "execution_count": 14,
     "metadata": {},
     "output_type": "execute_result"
    }
   ],
   "source": [
    "df_extend.shape"
   ]
  },
  {
   "cell_type": "code",
   "execution_count": 25,
   "metadata": {},
   "outputs": [],
   "source": [
    "from sklearn.feature_extraction.text import CountVectorizer\n",
    "vectorizer = CountVectorizer()"
   ]
  },
  {
   "cell_type": "code",
   "execution_count": 26,
   "metadata": {},
   "outputs": [],
   "source": [
    "x = vectorizer.fit_transform(df_extend['Sentences'])"
   ]
  },
  {
   "cell_type": "code",
   "execution_count": 27,
   "metadata": {},
   "outputs": [
    {
     "data": {
      "text/plain": [
       "<46867x27187 sparse matrix of type '<class 'numpy.int64'>'\n",
       "\twith 960306 stored elements in Compressed Sparse Row format>"
      ]
     },
     "execution_count": 27,
     "metadata": {},
     "output_type": "execute_result"
    }
   ],
   "source": [
    "x # all sentences"
   ]
  },
  {
   "cell_type": "code",
   "execution_count": 32,
   "metadata": {},
   "outputs": [],
   "source": [
    "def check_class(index,row):\n",
    "    tmps = row.split('/')\n",
    "    out = []\n",
    "    for tmp in tmps:\n",
    "        if tmp=='BACKGROUND':\n",
    "            out.append(1)\n",
    "        elif tmp=='OBJECTIVES':\n",
    "            out.append(2)\n",
    "        elif tmp=='METHODS':\n",
    "            out.append(3)\n",
    "        elif tmp=='RESULTS':\n",
    "            out.append(4)\n",
    "        elif tmp=='CONCLUSIONS':\n",
    "            out.append(5)\n",
    "        else:\n",
    "            out.append(6)\n",
    "            \n",
    "    return out"
   ]
  },
  {
   "cell_type": "code",
   "execution_count": 34,
   "metadata": {},
   "outputs": [],
   "source": [
    "# I want to see if there any word that appeared more frequently in each class!\n",
    "\n",
    "bg_ind=[]\n",
    "obj_ind=[]\n",
    "method_ind=[]\n",
    "result_ind = []\n",
    "con_ind = []\n",
    "other_ind = []\n",
    "\n",
    "\n",
    "for index, row in df_extend.iterrows():\n",
    "    xs = check_class(index,row['Label'])\n",
    "    for x in xs:\n",
    "        if x==1:\n",
    "            bg_ind.append(index)\n",
    "        if x==2:\n",
    "            obj_ind.append(index)\n",
    "        if x==3:\n",
    "            method_ind.append(index)\n",
    "        if x==4:\n",
    "            result_ind.append(index)\n",
    "        if x==5:\n",
    "            con_ind.append(index)\n",
    "        if x==6:\n",
    "            other_ind.append(index)\n",
    "\n",
    "# Not all sentences, because there are some sentences having multiple labels!!!\n",
    "# We just fetched the index of single label data to analyze here!!!"
   ]
  },
  {
   "cell_type": "code",
   "execution_count": 37,
   "metadata": {},
   "outputs": [
    {
     "data": {
      "text/plain": [
       "54323"
      ]
     },
     "execution_count": 37,
     "metadata": {},
     "output_type": "execute_result"
    }
   ],
   "source": [
    "len(bg_ind)+len(obj_ind)+len(method_ind)+len(result_ind)+len(con_ind)+len(other_ind)"
   ]
  },
  {
   "cell_type": "code",
   "execution_count": 40,
   "metadata": {},
   "outputs": [
    {
     "data": {
      "text/plain": [
       "[0, 11, 19, 20, 21, 35, 36, 37, 38, 51]"
      ]
     },
     "execution_count": 40,
     "metadata": {},
     "output_type": "execute_result"
    }
   ],
   "source": [
    "bg_ind[0:10]"
   ]
  },
  {
   "cell_type": "code",
   "execution_count": 44,
   "metadata": {},
   "outputs": [
    {
     "data": {
      "text/html": [
       "<div>\n",
       "<style scoped>\n",
       "    .dataframe tbody tr th:only-of-type {\n",
       "        vertical-align: middle;\n",
       "    }\n",
       "\n",
       "    .dataframe tbody tr th {\n",
       "        vertical-align: top;\n",
       "    }\n",
       "\n",
       "    .dataframe thead th {\n",
       "        text-align: right;\n",
       "    }\n",
       "</style>\n",
       "<table border=\"1\" class=\"dataframe\">\n",
       "  <thead>\n",
       "    <tr style=\"text-align: right;\">\n",
       "      <th></th>\n",
       "      <th>Id</th>\n",
       "      <th>Title</th>\n",
       "      <th>Sentences</th>\n",
       "      <th>Authors</th>\n",
       "      <th>Categories</th>\n",
       "      <th>Created Date</th>\n",
       "      <th>Label</th>\n",
       "    </tr>\n",
       "  </thead>\n",
       "  <tbody>\n",
       "    <tr>\n",
       "      <th>1</th>\n",
       "      <td>D00001</td>\n",
       "      <td>A Brain-Inspired Trust Management Model to Ass...</td>\n",
       "      <td>To ensure secure and reliable data communicati...</td>\n",
       "      <td>Mahmud/Kaiser/Rahman/Rahman/Shabut/Al-Mamun/Hu...</td>\n",
       "      <td>cs.CR/cs.AI/q-bio.NC</td>\n",
       "      <td>2018-01-11</td>\n",
       "      <td>OBJECTIVES</td>\n",
       "    </tr>\n",
       "    <tr>\n",
       "      <th>6</th>\n",
       "      <td>D00002</td>\n",
       "      <td>On Efficient Computation of Shortest Dubins Pa...</td>\n",
       "      <td>In this paper, we address the problem of compu...</td>\n",
       "      <td>Sadeghi/Smith</td>\n",
       "      <td>cs.SY/cs.RO/math.OC</td>\n",
       "      <td>2016-09-21</td>\n",
       "      <td>OBJECTIVES</td>\n",
       "    </tr>\n",
       "    <tr>\n",
       "      <th>12</th>\n",
       "      <td>D00003</td>\n",
       "      <td>Data-driven Upsampling of Point Clouds</td>\n",
       "      <td>In this paper, we propose a data-driven algori...</td>\n",
       "      <td>Zhang/Jiang/Yang/Yamakawa/Shimada/Kara</td>\n",
       "      <td>cs.CV</td>\n",
       "      <td>2018-07-07</td>\n",
       "      <td>OBJECTIVES</td>\n",
       "    </tr>\n",
       "    <tr>\n",
       "      <th>22</th>\n",
       "      <td>D00004</td>\n",
       "      <td>Accessibility or Usability of InteractSE? A He...</td>\n",
       "      <td>The aim of this paper is design, evaluate and ...</td>\n",
       "      <td>Aqle/Khowaja/Al-Thani</td>\n",
       "      <td>cs.HC</td>\n",
       "      <td>2018-08-29</td>\n",
       "      <td>OBJECTIVES</td>\n",
       "    </tr>\n",
       "    <tr>\n",
       "      <th>23</th>\n",
       "      <td>D00004</td>\n",
       "      <td>Accessibility or Usability of InteractSE? A He...</td>\n",
       "      <td>This attempt provides a new accessibility tool...</td>\n",
       "      <td>Aqle/Khowaja/Al-Thani</td>\n",
       "      <td>cs.HC</td>\n",
       "      <td>2018-08-29</td>\n",
       "      <td>OBJECTIVES</td>\n",
       "    </tr>\n",
       "    <tr>\n",
       "      <th>45</th>\n",
       "      <td>D00005</td>\n",
       "      <td>Spatio-Temporal Facial Expression Recognition ...</td>\n",
       "      <td>Our experimental results show that cascading t...</td>\n",
       "      <td>Hasani/Mahoor</td>\n",
       "      <td>cs.CV</td>\n",
       "      <td>2017-03-20</td>\n",
       "      <td>OBJECTIVES/RESULTS/CONCLUSIONS</td>\n",
       "    </tr>\n",
       "    <tr>\n",
       "      <th>46</th>\n",
       "      <td>D00006</td>\n",
       "      <td>Continuous Semantic Topic Embedding Model Usin...</td>\n",
       "      <td>This paper proposes the continuous semantic to...</td>\n",
       "      <td>Jung/Choi</td>\n",
       "      <td>stat.ML/cs.CL/cs.LG</td>\n",
       "      <td>2017-11-24</td>\n",
       "      <td>OBJECTIVES/METHODS</td>\n",
       "    </tr>\n",
       "    <tr>\n",
       "      <th>52</th>\n",
       "      <td>D00007</td>\n",
       "      <td>Beyond Shared Hierarchies: Deep Multitask Lear...</td>\n",
       "      <td>Such an organization significantly constricts ...</td>\n",
       "      <td>Meyerson/Miikkulainen</td>\n",
       "      <td>cs.LG/cs.AI/stat.ML</td>\n",
       "      <td>2017-10-31</td>\n",
       "      <td>BACKGROUND/OBJECTIVES</td>\n",
       "    </tr>\n",
       "    <tr>\n",
       "      <th>53</th>\n",
       "      <td>D00007</td>\n",
       "      <td>Beyond Shared Hierarchies: Deep Multitask Lear...</td>\n",
       "      <td>The necessity of parallel ordering for deep MT...</td>\n",
       "      <td>Meyerson/Miikkulainen</td>\n",
       "      <td>cs.LG/cs.AI/stat.ML</td>\n",
       "      <td>2017-10-31</td>\n",
       "      <td>OBJECTIVES/METHODS</td>\n",
       "    </tr>\n",
       "    <tr>\n",
       "      <th>57</th>\n",
       "      <td>D00008</td>\n",
       "      <td>Using Scalp Electrical Biosignals to Control a...</td>\n",
       "      <td>In this paper we explore the use of electrical...</td>\n",
       "      <td>George/Lotte/Abad/Lécuyer</td>\n",
       "      <td>cs.OH</td>\n",
       "      <td>2011-11-08</td>\n",
       "      <td>OBJECTIVES</td>\n",
       "    </tr>\n",
       "    <tr>\n",
       "      <th>67</th>\n",
       "      <td>D00009</td>\n",
       "      <td>Robustness from structure: Inference with hier...</td>\n",
       "      <td>How spiking networks are able to perform proba...</td>\n",
       "      <td>Petrovici/Schroeder/Breitwieser/Grübl/Schemmel...</td>\n",
       "      <td>q-bio.NC/cs.NE/stat.ML</td>\n",
       "      <td>2017-03-12</td>\n",
       "      <td>BACKGROUND/OBJECTIVES</td>\n",
       "    </tr>\n",
       "    <tr>\n",
       "      <th>70</th>\n",
       "      <td>D00009</td>\n",
       "      <td>Robustness from structure: Inference with hier...</td>\n",
       "      <td>In this paper, we discuss several such distort...</td>\n",
       "      <td>Petrovici/Schroeder/Breitwieser/Grübl/Schemmel...</td>\n",
       "      <td>q-bio.NC/cs.NE/stat.ML</td>\n",
       "      <td>2017-03-12</td>\n",
       "      <td>OBJECTIVES/METHODS/RESULTS</td>\n",
       "    </tr>\n",
       "    <tr>\n",
       "      <th>71</th>\n",
       "      <td>D00009</td>\n",
       "      <td>Robustness from structure: Inference with hier...</td>\n",
       "      <td>We then argue that hierarchical networks of le...</td>\n",
       "      <td>Petrovici/Schroeder/Breitwieser/Grübl/Schemmel...</td>\n",
       "      <td>q-bio.NC/cs.NE/stat.ML</td>\n",
       "      <td>2017-03-12</td>\n",
       "      <td>OBJECTIVES/METHODS/RESULTS/CONCLUSIONS</td>\n",
       "    </tr>\n",
       "    <tr>\n",
       "      <th>73</th>\n",
       "      <td>D00010</td>\n",
       "      <td>Statistical Mechanical Analysis of Low-Density...</td>\n",
       "      <td>In this paper, statistical mechanical analysis...</td>\n",
       "      <td>Mori/Tanaka</td>\n",
       "      <td>cs.IT/math.IT</td>\n",
       "      <td>2011-10-10</td>\n",
       "      <td>OBJECTIVES</td>\n",
       "    </tr>\n",
       "    <tr>\n",
       "      <th>80</th>\n",
       "      <td>D00011</td>\n",
       "      <td>Optimizing Communication and Computation for M...</td>\n",
       "      <td>In this work, we aim at attaining an optimal t...</td>\n",
       "      <td>Thammawichai/Baliyarasimhuni/Kerrigan/Sousa</td>\n",
       "      <td>cs.SY/cs.DC/cs.RO/math.OC</td>\n",
       "      <td>2016-10-13</td>\n",
       "      <td>OBJECTIVES</td>\n",
       "    </tr>\n",
       "    <tr>\n",
       "      <th>85</th>\n",
       "      <td>D00012</td>\n",
       "      <td>Scene Text Recognition from Two-Dimensional Pe...</td>\n",
       "      <td>Though achieving excellent performance, these ...</td>\n",
       "      <td>Liao/Zhang/Wan/Xie/Liang/Lyu/Yao/Bai</td>\n",
       "      <td>cs.CV</td>\n",
       "      <td>2018-09-17</td>\n",
       "      <td>OBJECTIVES</td>\n",
       "    </tr>\n",
       "    <tr>\n",
       "      <th>88</th>\n",
       "      <td>D00012</td>\n",
       "      <td>Scene Text Recognition from Two-Dimensional Pe...</td>\n",
       "      <td>In this paper, we approach scene text recognit...</td>\n",
       "      <td>Liao/Zhang/Wan/Xie/Liang/Lyu/Yao/Bai</td>\n",
       "      <td>cs.CV</td>\n",
       "      <td>2018-09-17</td>\n",
       "      <td>OBJECTIVES</td>\n",
       "    </tr>\n",
       "    <tr>\n",
       "      <th>106</th>\n",
       "      <td>D00014</td>\n",
       "      <td>Geo-Network Coding Function Virtualization for...</td>\n",
       "      <td>In this paper, we propose a design solution fo...</td>\n",
       "      <td>Do-Duy/Castro</td>\n",
       "      <td>cs.NI</td>\n",
       "      <td>2018-03-12</td>\n",
       "      <td>OBJECTIVES</td>\n",
       "    </tr>\n",
       "    <tr>\n",
       "      <th>107</th>\n",
       "      <td>D00014</td>\n",
       "      <td>Geo-Network Coding Function Virtualization for...</td>\n",
       "      <td>Network Function Virtualization (NFV) and Netw...</td>\n",
       "      <td>Do-Duy/Castro</td>\n",
       "      <td>cs.NI</td>\n",
       "      <td>2018-03-12</td>\n",
       "      <td>OBJECTIVES</td>\n",
       "    </tr>\n",
       "    <tr>\n",
       "      <th>109</th>\n",
       "      <td>D00014</td>\n",
       "      <td>Geo-Network Coding Function Virtualization for...</td>\n",
       "      <td>The overall design target is to achieve a give...</td>\n",
       "      <td>Do-Duy/Castro</td>\n",
       "      <td>cs.NI</td>\n",
       "      <td>2018-03-12</td>\n",
       "      <td>OBJECTIVES</td>\n",
       "    </tr>\n",
       "    <tr>\n",
       "      <th>112</th>\n",
       "      <td>D00015</td>\n",
       "      <td>A supervised clustering approach for fMRI-base...</td>\n",
       "      <td>We propose a method that combines signals from...</td>\n",
       "      <td>Michel/Gramfort/Varoquaux/Eger/Keribin/Thirion</td>\n",
       "      <td>cs.CV</td>\n",
       "      <td>2011-04-28</td>\n",
       "      <td>OBJECTIVES</td>\n",
       "    </tr>\n",
       "    <tr>\n",
       "      <th>121</th>\n",
       "      <td>D00016</td>\n",
       "      <td>Mapping the Americanization of English in Spac...</td>\n",
       "      <td>In this work, we analyze how the world-wide va...</td>\n",
       "      <td>Gonçalves/Loureiro-Porto/Ramasco/Sánchez</td>\n",
       "      <td>cs.CL/cond-mat.stat-mech/cs.CY/physics.soc-ph/...</td>\n",
       "      <td>2017-07-03</td>\n",
       "      <td>OBJECTIVES</td>\n",
       "    </tr>\n",
       "    <tr>\n",
       "      <th>135</th>\n",
       "      <td>D00018</td>\n",
       "      <td>RECS: Robust Graph Embedding Using Connection ...</td>\n",
       "      <td>In this paper, we propose RECS, a novel, stabl...</td>\n",
       "      <td>Al-Sayouri/Koutra/Papalexakis/Lam</td>\n",
       "      <td>cs.LG/cs.AI/cs.SI/stat.ML</td>\n",
       "      <td>2018-05-03</td>\n",
       "      <td>OBJECTIVES</td>\n",
       "    </tr>\n",
       "    <tr>\n",
       "      <th>136</th>\n",
       "      <td>D00018</td>\n",
       "      <td>RECS: Robust Graph Embedding Using Connection ...</td>\n",
       "      <td>RECS learns graph representations using connec...</td>\n",
       "      <td>Al-Sayouri/Koutra/Papalexakis/Lam</td>\n",
       "      <td>cs.LG/cs.AI/cs.SI/stat.ML</td>\n",
       "      <td>2018-05-03</td>\n",
       "      <td>OBJECTIVES/METHODS</td>\n",
       "    </tr>\n",
       "    <tr>\n",
       "      <th>141</th>\n",
       "      <td>D00019</td>\n",
       "      <td>Cryptography with right-angled Artin groups</td>\n",
       "      <td>In this paper we propose right-angled Artin gr...</td>\n",
       "      <td>Flores/Kahrobaei</td>\n",
       "      <td>cs.CR/math.GR</td>\n",
       "      <td>2016-10-20</td>\n",
       "      <td>OBJECTIVES</td>\n",
       "    </tr>\n",
       "    <tr>\n",
       "      <th>143</th>\n",
       "      <td>D00019</td>\n",
       "      <td>Cryptography with right-angled Artin groups</td>\n",
       "      <td>Based on them, we also propose two new authent...</td>\n",
       "      <td>Flores/Kahrobaei</td>\n",
       "      <td>cs.CR/math.GR</td>\n",
       "      <td>2016-10-20</td>\n",
       "      <td>OBJECTIVES</td>\n",
       "    </tr>\n",
       "    <tr>\n",
       "      <th>147</th>\n",
       "      <td>D00020</td>\n",
       "      <td>Examining Scientific Writing Styles from the P...</td>\n",
       "      <td>In order to uncover the differences in English...</td>\n",
       "      <td>Lu/Bu/Wang/Ding/Torvik/Schnaars/Zhang</td>\n",
       "      <td>cs.CL</td>\n",
       "      <td>2018-07-22</td>\n",
       "      <td>OBJECTIVES</td>\n",
       "    </tr>\n",
       "    <tr>\n",
       "      <th>153</th>\n",
       "      <td>D00021</td>\n",
       "      <td>A Generic Axiomatic Characterization of Centra...</td>\n",
       "      <td>In this paper we propose a generic axiomatic f...</td>\n",
       "      <td>Bandyopadhyay/Murty/Narayanam</td>\n",
       "      <td>cs.SI/physics.soc-ph</td>\n",
       "      <td>2017-03-22</td>\n",
       "      <td>OBJECTIVES</td>\n",
       "    </tr>\n",
       "    <tr>\n",
       "      <th>166</th>\n",
       "      <td>D00023</td>\n",
       "      <td>Understanding Psycholinguistic Behavior of pre...</td>\n",
       "      <td>In this paper, we investigate the potential of...</td>\n",
       "      <td>Maity/Mullick/Ghosh/Kumar/Dhamnani/Bahety/Mukh...</td>\n",
       "      <td>cs.CY</td>\n",
       "      <td>2018-05-28</td>\n",
       "      <td>OBJECTIVES</td>\n",
       "    </tr>\n",
       "    <tr>\n",
       "      <th>167</th>\n",
       "      <td>D00023</td>\n",
       "      <td>Understanding Psycholinguistic Behavior of pre...</td>\n",
       "      <td>Our research aims to analyze the behavior of d...</td>\n",
       "      <td>Maity/Mullick/Ghosh/Kumar/Dhamnani/Bahety/Mukh...</td>\n",
       "      <td>cs.CY</td>\n",
       "      <td>2018-05-28</td>\n",
       "      <td>OBJECTIVES</td>\n",
       "    </tr>\n",
       "    <tr>\n",
       "      <th>...</th>\n",
       "      <td>...</td>\n",
       "      <td>...</td>\n",
       "      <td>...</td>\n",
       "      <td>...</td>\n",
       "      <td>...</td>\n",
       "      <td>...</td>\n",
       "      <td>...</td>\n",
       "    </tr>\n",
       "    <tr>\n",
       "      <th>46702</th>\n",
       "      <td>D06978</td>\n",
       "      <td>Attend, Infer, Repeat: Fast Scene Understandin...</td>\n",
       "      <td>We present a framework for efficient inference...</td>\n",
       "      <td>Eslami/Heess/Weber/Tassa/Szepesvari/Kavukcuogl...</td>\n",
       "      <td>cs.CV/cs.LG</td>\n",
       "      <td>2016-03-28</td>\n",
       "      <td>OBJECTIVES</td>\n",
       "    </tr>\n",
       "    <tr>\n",
       "      <th>46705</th>\n",
       "      <td>D06978</td>\n",
       "      <td>Attend, Infer, Repeat: Fast Scene Understandin...</td>\n",
       "      <td>We use this scheme to learn to perform inferen...</td>\n",
       "      <td>Eslami/Heess/Weber/Tassa/Szepesvari/Kavukcuogl...</td>\n",
       "      <td>cs.CV/cs.LG</td>\n",
       "      <td>2016-03-28</td>\n",
       "      <td>OBJECTIVES</td>\n",
       "    </tr>\n",
       "    <tr>\n",
       "      <th>46709</th>\n",
       "      <td>D06979</td>\n",
       "      <td>Optimizing Queries in a Logic-based Informatio...</td>\n",
       "      <td>Besides providing a uniform interface to the i...</td>\n",
       "      <td>Békés/Szeredi</td>\n",
       "      <td>cs.PL/cs.SE</td>\n",
       "      <td>2007-12-19</td>\n",
       "      <td>OBJECTIVES</td>\n",
       "    </tr>\n",
       "    <tr>\n",
       "      <th>46716</th>\n",
       "      <td>D06980</td>\n",
       "      <td>A Simple Change Comparison Method for Image Se...</td>\n",
       "      <td>For identification of change information in im...</td>\n",
       "      <td>Zhao/Fang/Horn</td>\n",
       "      <td>eess.IV/cs.CV</td>\n",
       "      <td>2018-10-14</td>\n",
       "      <td>BACKGROUND/OBJECTIVES</td>\n",
       "    </tr>\n",
       "    <tr>\n",
       "      <th>46721</th>\n",
       "      <td>D06980</td>\n",
       "      <td>A Simple Change Comparison Method for Image Se...</td>\n",
       "      <td>The limited number of provided screens and a l...</td>\n",
       "      <td>Zhao/Fang/Horn</td>\n",
       "      <td>eess.IV/cs.CV</td>\n",
       "      <td>2018-10-14</td>\n",
       "      <td>OBJECTIVES</td>\n",
       "    </tr>\n",
       "    <tr>\n",
       "      <th>46727</th>\n",
       "      <td>D06981</td>\n",
       "      <td>A replay-attack resistant message authenticati...</td>\n",
       "      <td>We propose a construction that extends HMACs t...</td>\n",
       "      <td>Gupta</td>\n",
       "      <td>cs.CR</td>\n",
       "      <td>2016-02-05</td>\n",
       "      <td>OBJECTIVES</td>\n",
       "    </tr>\n",
       "    <tr>\n",
       "      <th>46728</th>\n",
       "      <td>D06981</td>\n",
       "      <td>A replay-attack resistant message authenticati...</td>\n",
       "      <td>We then propose a message signature scheme tha...</td>\n",
       "      <td>Gupta</td>\n",
       "      <td>cs.CR</td>\n",
       "      <td>2016-02-05</td>\n",
       "      <td>OBJECTIVES</td>\n",
       "    </tr>\n",
       "    <tr>\n",
       "      <th>46732</th>\n",
       "      <td>D06982</td>\n",
       "      <td>The Power Grid as a Complex Network: a Survey</td>\n",
       "      <td>In this paper, we present a survey of the most...</td>\n",
       "      <td>Pagani/Aiello</td>\n",
       "      <td>physics.soc-ph/cs.DM/cs.SI</td>\n",
       "      <td>2011-05-17</td>\n",
       "      <td>OBJECTIVES</td>\n",
       "    </tr>\n",
       "    <tr>\n",
       "      <th>46735</th>\n",
       "      <td>D06983</td>\n",
       "      <td>Semantic Integration &amp; Single-Site Opening of ...</td>\n",
       "      <td>Opening data and enabling its unified querying...</td>\n",
       "      <td>Kotis/Athanasakis/Vouros</td>\n",
       "      <td>cs.IR/cs.AI/cs.DB</td>\n",
       "      <td>2014-07-02</td>\n",
       "      <td>OBJECTIVES</td>\n",
       "    </tr>\n",
       "    <tr>\n",
       "      <th>46744</th>\n",
       "      <td>D06984</td>\n",
       "      <td>Theory and computation of electromagnetic fiel...</td>\n",
       "      <td>We present a rigorous and thermodynamically co...</td>\n",
       "      <td>Abali/Queiruga</td>\n",
       "      <td>cs.CE/physics.comp-ph</td>\n",
       "      <td>2018-03-28</td>\n",
       "      <td>OBJECTIVES</td>\n",
       "    </tr>\n",
       "    <tr>\n",
       "      <th>46745</th>\n",
       "      <td>D06984</td>\n",
       "      <td>Theory and computation of electromagnetic fiel...</td>\n",
       "      <td>A clear separation of the different frames is ...</td>\n",
       "      <td>Abali/Queiruga</td>\n",
       "      <td>cs.CE/physics.comp-ph</td>\n",
       "      <td>2018-03-28</td>\n",
       "      <td>OBJECTIVES</td>\n",
       "    </tr>\n",
       "    <tr>\n",
       "      <th>46751</th>\n",
       "      <td>D06985</td>\n",
       "      <td>FRnet-DTI: Deep Convolutional Neural Networks ...</td>\n",
       "      <td>In this paper, we present FRnet-DTI, an auto e...</td>\n",
       "      <td>Rayhan/Ahmed/Mousavian/Farid/Shatabda</td>\n",
       "      <td>cs.LG/stat.ML</td>\n",
       "      <td>2018-06-19</td>\n",
       "      <td>OBJECTIVES</td>\n",
       "    </tr>\n",
       "    <tr>\n",
       "      <th>46764</th>\n",
       "      <td>D06986</td>\n",
       "      <td>Improving Data Quality in Intelligent Transpor...</td>\n",
       "      <td>Our current project investigates novel data cl...</td>\n",
       "      <td>Megler/Tufte/Maier</td>\n",
       "      <td>cs.OH</td>\n",
       "      <td>2016-02-09</td>\n",
       "      <td>OBJECTIVES</td>\n",
       "    </tr>\n",
       "    <tr>\n",
       "      <th>46779</th>\n",
       "      <td>D06988</td>\n",
       "      <td>Prediction of Optimal Drug Schedules for Contr...</td>\n",
       "      <td>Such an approach beckons for co-development of...</td>\n",
       "      <td>Shirin/Klickstein/Feng/Lin/Hlavacek/Sorrentino</td>\n",
       "      <td>cs.SY</td>\n",
       "      <td>2018-07-31</td>\n",
       "      <td>BACKGROUND/OBJECTIVES/METHODS/RESULTS/CONCLUSIONS</td>\n",
       "    </tr>\n",
       "    <tr>\n",
       "      <th>46780</th>\n",
       "      <td>D06988</td>\n",
       "      <td>Prediction of Optimal Drug Schedules for Contr...</td>\n",
       "      <td>Here, we present and evaluate a generalizable ...</td>\n",
       "      <td>Shirin/Klickstein/Feng/Lin/Hlavacek/Sorrentino</td>\n",
       "      <td>cs.SY</td>\n",
       "      <td>2018-07-31</td>\n",
       "      <td>BACKGROUND/OBJECTIVES/METHODS/RESULTS/CONCLUSIONS</td>\n",
       "    </tr>\n",
       "    <tr>\n",
       "      <th>46784</th>\n",
       "      <td>D06989</td>\n",
       "      <td>Hierarchical Object Detection with Deep Reinfo...</td>\n",
       "      <td>We present a method for performing hierarchica...</td>\n",
       "      <td>Bellver/Giro-i-Nieto/Marques/Torres</td>\n",
       "      <td>cs.CV/cs.LG</td>\n",
       "      <td>2016-11-11</td>\n",
       "      <td>OBJECTIVES</td>\n",
       "    </tr>\n",
       "    <tr>\n",
       "      <th>46794</th>\n",
       "      <td>D06990</td>\n",
       "      <td>Out-of-Distribution Detection using Multiple S...</td>\n",
       "      <td>In this work, we consider the problem of out-o...</td>\n",
       "      <td>Shalev/Adi/Keshet</td>\n",
       "      <td>stat.ML/cs.LG</td>\n",
       "      <td>2018-08-20</td>\n",
       "      <td>OBJECTIVES</td>\n",
       "    </tr>\n",
       "    <tr>\n",
       "      <th>46802</th>\n",
       "      <td>D06991</td>\n",
       "      <td>Multi-Objective Vehicle Routing Problem Applie...</td>\n",
       "      <td>This work creates an extensible real-world mai...</td>\n",
       "      <td>Meira/Martins/Menzori/Zeni</td>\n",
       "      <td>cs.AI/cs.CC</td>\n",
       "      <td>2017-12-23</td>\n",
       "      <td>OBJECTIVES/RESULTS</td>\n",
       "    </tr>\n",
       "    <tr>\n",
       "      <th>46803</th>\n",
       "      <td>D06991</td>\n",
       "      <td>Multi-Objective Vehicle Routing Problem Applie...</td>\n",
       "      <td>Such problem is multi-objective on a roadmap w...</td>\n",
       "      <td>Meira/Martins/Menzori/Zeni</td>\n",
       "      <td>cs.AI/cs.CC</td>\n",
       "      <td>2017-12-23</td>\n",
       "      <td>OBJECTIVES</td>\n",
       "    </tr>\n",
       "    <tr>\n",
       "      <th>46806</th>\n",
       "      <td>D06992</td>\n",
       "      <td>Measures of Tractography Convergence</td>\n",
       "      <td>In the present work, we use information theory...</td>\n",
       "      <td>Moyer/Thompson/Steeg</td>\n",
       "      <td>q-bio.QM/cs.LG/q-bio.TO/stat.AP</td>\n",
       "      <td>2018-06-12</td>\n",
       "      <td>OBJECTIVES</td>\n",
       "    </tr>\n",
       "    <tr>\n",
       "      <th>46813</th>\n",
       "      <td>D06993</td>\n",
       "      <td>Rotated Eigenstructure Analysis for Source Loc...</td>\n",
       "      <td>Herein, the problem of simultaneous localizati...</td>\n",
       "      <td>Chen/Mitra</td>\n",
       "      <td>cs.IT/math.IT</td>\n",
       "      <td>2017-01-27</td>\n",
       "      <td>OBJECTIVES</td>\n",
       "    </tr>\n",
       "    <tr>\n",
       "      <th>46823</th>\n",
       "      <td>D06994</td>\n",
       "      <td>Gender, Productivity, and Prestige in Computer...</td>\n",
       "      <td>Using comprehensive data on both hiring outcom...</td>\n",
       "      <td>Way/Larremore/Clauset</td>\n",
       "      <td>cs.SI/cs.CY/physics.soc-ph/stat.AP</td>\n",
       "      <td>2016-02-02</td>\n",
       "      <td>OBJECTIVES/METHODS</td>\n",
       "    </tr>\n",
       "    <tr>\n",
       "      <th>46830</th>\n",
       "      <td>D06995</td>\n",
       "      <td>The WebStand Project</td>\n",
       "      <td>The objective of this project is to construct ...</td>\n",
       "      <td>Nguyen/Dudouet/Colazzo/Vion/Manolescu/Senellart</td>\n",
       "      <td>cs.DB</td>\n",
       "      <td>2010-02-04</td>\n",
       "      <td>OBJECTIVES</td>\n",
       "    </tr>\n",
       "    <tr>\n",
       "      <th>46834</th>\n",
       "      <td>D06996</td>\n",
       "      <td>RUM: network Representation learning throUgh M...</td>\n",
       "      <td>We propose a novel network representations lea...</td>\n",
       "      <td>Yu/Lu/Liu/Zhao/Wen/Zheng</td>\n",
       "      <td>cs.LG/cs.SI</td>\n",
       "      <td>2017-10-08</td>\n",
       "      <td>OBJECTIVES</td>\n",
       "    </tr>\n",
       "    <tr>\n",
       "      <th>46840</th>\n",
       "      <td>D06997</td>\n",
       "      <td>Towards Zero-Shot Frame Semantic Parsing for D...</td>\n",
       "      <td>While multi-task training of such models allev...</td>\n",
       "      <td>Bapna/Tur/Hakkani-Tur/Heck</td>\n",
       "      <td>cs.AI/cs.CL</td>\n",
       "      <td>2017-07-07</td>\n",
       "      <td>OBJECTIVES</td>\n",
       "    </tr>\n",
       "    <tr>\n",
       "      <th>46846</th>\n",
       "      <td>D06998</td>\n",
       "      <td>Efficient Dense Modules of Asymmetric Convolut...</td>\n",
       "      <td>Most semantic segmentation research work focus...</td>\n",
       "      <td>Lo/Hang/Chan/Lin</td>\n",
       "      <td>cs.CV</td>\n",
       "      <td>2018-09-17</td>\n",
       "      <td>OBJECTIVES</td>\n",
       "    </tr>\n",
       "    <tr>\n",
       "      <th>46847</th>\n",
       "      <td>D06998</td>\n",
       "      <td>Efficient Dense Modules of Asymmetric Convolut...</td>\n",
       "      <td>Several previous studies that emphasize high-s...</td>\n",
       "      <td>Lo/Hang/Chan/Lin</td>\n",
       "      <td>cs.CV</td>\n",
       "      <td>2018-09-17</td>\n",
       "      <td>OBJECTIVES</td>\n",
       "    </tr>\n",
       "    <tr>\n",
       "      <th>46852</th>\n",
       "      <td>D06999</td>\n",
       "      <td>Network Vector: Distributed Representations of...</td>\n",
       "      <td>We propose a neural embedding algorithm called...</td>\n",
       "      <td>Wu/Lerman</td>\n",
       "      <td>cs.SI/cs.LG</td>\n",
       "      <td>2017-09-07</td>\n",
       "      <td>OBJECTIVES</td>\n",
       "    </tr>\n",
       "    <tr>\n",
       "      <th>46859</th>\n",
       "      <td>D07000</td>\n",
       "      <td>Asymptotic Analysis of Spatial Coupling Coding...</td>\n",
       "      <td>In a CAF scheme, a relay is designed to decode...</td>\n",
       "      <td>Takabe/Wadayama/Hayashi</td>\n",
       "      <td>cs.IT/math.IT</td>\n",
       "      <td>2018-07-03</td>\n",
       "      <td>BACKGROUND/OBJECTIVES</td>\n",
       "    </tr>\n",
       "    <tr>\n",
       "      <th>46861</th>\n",
       "      <td>D07000</td>\n",
       "      <td>Asymptotic Analysis of Spatial Coupling Coding...</td>\n",
       "      <td>As described in this paper, we will present an...</td>\n",
       "      <td>Takabe/Wadayama/Hayashi</td>\n",
       "      <td>cs.IT/math.IT</td>\n",
       "      <td>2018-07-03</td>\n",
       "      <td>OBJECTIVES</td>\n",
       "    </tr>\n",
       "  </tbody>\n",
       "</table>\n",
       "<p>9329 rows × 7 columns</p>\n",
       "</div>"
      ],
      "text/plain": [
       "           Id                                              Title  \\\n",
       "1      D00001  A Brain-Inspired Trust Management Model to Ass...   \n",
       "6      D00002  On Efficient Computation of Shortest Dubins Pa...   \n",
       "12     D00003             Data-driven Upsampling of Point Clouds   \n",
       "22     D00004  Accessibility or Usability of InteractSE? A He...   \n",
       "23     D00004  Accessibility or Usability of InteractSE? A He...   \n",
       "45     D00005  Spatio-Temporal Facial Expression Recognition ...   \n",
       "46     D00006  Continuous Semantic Topic Embedding Model Usin...   \n",
       "52     D00007  Beyond Shared Hierarchies: Deep Multitask Lear...   \n",
       "53     D00007  Beyond Shared Hierarchies: Deep Multitask Lear...   \n",
       "57     D00008  Using Scalp Electrical Biosignals to Control a...   \n",
       "67     D00009  Robustness from structure: Inference with hier...   \n",
       "70     D00009  Robustness from structure: Inference with hier...   \n",
       "71     D00009  Robustness from structure: Inference with hier...   \n",
       "73     D00010  Statistical Mechanical Analysis of Low-Density...   \n",
       "80     D00011  Optimizing Communication and Computation for M...   \n",
       "85     D00012  Scene Text Recognition from Two-Dimensional Pe...   \n",
       "88     D00012  Scene Text Recognition from Two-Dimensional Pe...   \n",
       "106    D00014  Geo-Network Coding Function Virtualization for...   \n",
       "107    D00014  Geo-Network Coding Function Virtualization for...   \n",
       "109    D00014  Geo-Network Coding Function Virtualization for...   \n",
       "112    D00015  A supervised clustering approach for fMRI-base...   \n",
       "121    D00016  Mapping the Americanization of English in Spac...   \n",
       "135    D00018  RECS: Robust Graph Embedding Using Connection ...   \n",
       "136    D00018  RECS: Robust Graph Embedding Using Connection ...   \n",
       "141    D00019        Cryptography with right-angled Artin groups   \n",
       "143    D00019        Cryptography with right-angled Artin groups   \n",
       "147    D00020  Examining Scientific Writing Styles from the P...   \n",
       "153    D00021  A Generic Axiomatic Characterization of Centra...   \n",
       "166    D00023  Understanding Psycholinguistic Behavior of pre...   \n",
       "167    D00023  Understanding Psycholinguistic Behavior of pre...   \n",
       "...       ...                                                ...   \n",
       "46702  D06978  Attend, Infer, Repeat: Fast Scene Understandin...   \n",
       "46705  D06978  Attend, Infer, Repeat: Fast Scene Understandin...   \n",
       "46709  D06979  Optimizing Queries in a Logic-based Informatio...   \n",
       "46716  D06980  A Simple Change Comparison Method for Image Se...   \n",
       "46721  D06980  A Simple Change Comparison Method for Image Se...   \n",
       "46727  D06981  A replay-attack resistant message authenticati...   \n",
       "46728  D06981  A replay-attack resistant message authenticati...   \n",
       "46732  D06982      The Power Grid as a Complex Network: a Survey   \n",
       "46735  D06983  Semantic Integration & Single-Site Opening of ...   \n",
       "46744  D06984  Theory and computation of electromagnetic fiel...   \n",
       "46745  D06984  Theory and computation of electromagnetic fiel...   \n",
       "46751  D06985  FRnet-DTI: Deep Convolutional Neural Networks ...   \n",
       "46764  D06986  Improving Data Quality in Intelligent Transpor...   \n",
       "46779  D06988  Prediction of Optimal Drug Schedules for Contr...   \n",
       "46780  D06988  Prediction of Optimal Drug Schedules for Contr...   \n",
       "46784  D06989  Hierarchical Object Detection with Deep Reinfo...   \n",
       "46794  D06990  Out-of-Distribution Detection using Multiple S...   \n",
       "46802  D06991  Multi-Objective Vehicle Routing Problem Applie...   \n",
       "46803  D06991  Multi-Objective Vehicle Routing Problem Applie...   \n",
       "46806  D06992               Measures of Tractography Convergence   \n",
       "46813  D06993  Rotated Eigenstructure Analysis for Source Loc...   \n",
       "46823  D06994  Gender, Productivity, and Prestige in Computer...   \n",
       "46830  D06995                               The WebStand Project   \n",
       "46834  D06996  RUM: network Representation learning throUgh M...   \n",
       "46840  D06997  Towards Zero-Shot Frame Semantic Parsing for D...   \n",
       "46846  D06998  Efficient Dense Modules of Asymmetric Convolut...   \n",
       "46847  D06998  Efficient Dense Modules of Asymmetric Convolut...   \n",
       "46852  D06999  Network Vector: Distributed Representations of...   \n",
       "46859  D07000  Asymptotic Analysis of Spatial Coupling Coding...   \n",
       "46861  D07000  Asymptotic Analysis of Spatial Coupling Coding...   \n",
       "\n",
       "                                               Sentences  \\\n",
       "1      To ensure secure and reliable data communicati...   \n",
       "6      In this paper, we address the problem of compu...   \n",
       "12     In this paper, we propose a data-driven algori...   \n",
       "22     The aim of this paper is design, evaluate and ...   \n",
       "23     This attempt provides a new accessibility tool...   \n",
       "45     Our experimental results show that cascading t...   \n",
       "46     This paper proposes the continuous semantic to...   \n",
       "52     Such an organization significantly constricts ...   \n",
       "53     The necessity of parallel ordering for deep MT...   \n",
       "57     In this paper we explore the use of electrical...   \n",
       "67     How spiking networks are able to perform proba...   \n",
       "70     In this paper, we discuss several such distort...   \n",
       "71     We then argue that hierarchical networks of le...   \n",
       "73     In this paper, statistical mechanical analysis...   \n",
       "80     In this work, we aim at attaining an optimal t...   \n",
       "85     Though achieving excellent performance, these ...   \n",
       "88     In this paper, we approach scene text recognit...   \n",
       "106    In this paper, we propose a design solution fo...   \n",
       "107    Network Function Virtualization (NFV) and Netw...   \n",
       "109    The overall design target is to achieve a give...   \n",
       "112    We propose a method that combines signals from...   \n",
       "121    In this work, we analyze how the world-wide va...   \n",
       "135    In this paper, we propose RECS, a novel, stabl...   \n",
       "136    RECS learns graph representations using connec...   \n",
       "141    In this paper we propose right-angled Artin gr...   \n",
       "143    Based on them, we also propose two new authent...   \n",
       "147    In order to uncover the differences in English...   \n",
       "153    In this paper we propose a generic axiomatic f...   \n",
       "166    In this paper, we investigate the potential of...   \n",
       "167    Our research aims to analyze the behavior of d...   \n",
       "...                                                  ...   \n",
       "46702  We present a framework for efficient inference...   \n",
       "46705  We use this scheme to learn to perform inferen...   \n",
       "46709  Besides providing a uniform interface to the i...   \n",
       "46716  For identification of change information in im...   \n",
       "46721  The limited number of provided screens and a l...   \n",
       "46727  We propose a construction that extends HMACs t...   \n",
       "46728  We then propose a message signature scheme tha...   \n",
       "46732  In this paper, we present a survey of the most...   \n",
       "46735  Opening data and enabling its unified querying...   \n",
       "46744  We present a rigorous and thermodynamically co...   \n",
       "46745  A clear separation of the different frames is ...   \n",
       "46751  In this paper, we present FRnet-DTI, an auto e...   \n",
       "46764  Our current project investigates novel data cl...   \n",
       "46779  Such an approach beckons for co-development of...   \n",
       "46780  Here, we present and evaluate a generalizable ...   \n",
       "46784  We present a method for performing hierarchica...   \n",
       "46794  In this work, we consider the problem of out-o...   \n",
       "46802  This work creates an extensible real-world mai...   \n",
       "46803  Such problem is multi-objective on a roadmap w...   \n",
       "46806  In the present work, we use information theory...   \n",
       "46813  Herein, the problem of simultaneous localizati...   \n",
       "46823  Using comprehensive data on both hiring outcom...   \n",
       "46830  The objective of this project is to construct ...   \n",
       "46834  We propose a novel network representations lea...   \n",
       "46840  While multi-task training of such models allev...   \n",
       "46846  Most semantic segmentation research work focus...   \n",
       "46847  Several previous studies that emphasize high-s...   \n",
       "46852  We propose a neural embedding algorithm called...   \n",
       "46859  In a CAF scheme, a relay is designed to decode...   \n",
       "46861  As described in this paper, we will present an...   \n",
       "\n",
       "                                                 Authors  \\\n",
       "1      Mahmud/Kaiser/Rahman/Rahman/Shabut/Al-Mamun/Hu...   \n",
       "6                                          Sadeghi/Smith   \n",
       "12                Zhang/Jiang/Yang/Yamakawa/Shimada/Kara   \n",
       "22                                 Aqle/Khowaja/Al-Thani   \n",
       "23                                 Aqle/Khowaja/Al-Thani   \n",
       "45                                         Hasani/Mahoor   \n",
       "46                                             Jung/Choi   \n",
       "52                                 Meyerson/Miikkulainen   \n",
       "53                                 Meyerson/Miikkulainen   \n",
       "57                             George/Lotte/Abad/Lécuyer   \n",
       "67     Petrovici/Schroeder/Breitwieser/Grübl/Schemmel...   \n",
       "70     Petrovici/Schroeder/Breitwieser/Grübl/Schemmel...   \n",
       "71     Petrovici/Schroeder/Breitwieser/Grübl/Schemmel...   \n",
       "73                                           Mori/Tanaka   \n",
       "80           Thammawichai/Baliyarasimhuni/Kerrigan/Sousa   \n",
       "85                  Liao/Zhang/Wan/Xie/Liang/Lyu/Yao/Bai   \n",
       "88                  Liao/Zhang/Wan/Xie/Liang/Lyu/Yao/Bai   \n",
       "106                                        Do-Duy/Castro   \n",
       "107                                        Do-Duy/Castro   \n",
       "109                                        Do-Duy/Castro   \n",
       "112       Michel/Gramfort/Varoquaux/Eger/Keribin/Thirion   \n",
       "121             Gonçalves/Loureiro-Porto/Ramasco/Sánchez   \n",
       "135                    Al-Sayouri/Koutra/Papalexakis/Lam   \n",
       "136                    Al-Sayouri/Koutra/Papalexakis/Lam   \n",
       "141                                     Flores/Kahrobaei   \n",
       "143                                     Flores/Kahrobaei   \n",
       "147                Lu/Bu/Wang/Ding/Torvik/Schnaars/Zhang   \n",
       "153                        Bandyopadhyay/Murty/Narayanam   \n",
       "166    Maity/Mullick/Ghosh/Kumar/Dhamnani/Bahety/Mukh...   \n",
       "167    Maity/Mullick/Ghosh/Kumar/Dhamnani/Bahety/Mukh...   \n",
       "...                                                  ...   \n",
       "46702  Eslami/Heess/Weber/Tassa/Szepesvari/Kavukcuogl...   \n",
       "46705  Eslami/Heess/Weber/Tassa/Szepesvari/Kavukcuogl...   \n",
       "46709                                      Békés/Szeredi   \n",
       "46716                                     Zhao/Fang/Horn   \n",
       "46721                                     Zhao/Fang/Horn   \n",
       "46727                                              Gupta   \n",
       "46728                                              Gupta   \n",
       "46732                                      Pagani/Aiello   \n",
       "46735                           Kotis/Athanasakis/Vouros   \n",
       "46744                                     Abali/Queiruga   \n",
       "46745                                     Abali/Queiruga   \n",
       "46751              Rayhan/Ahmed/Mousavian/Farid/Shatabda   \n",
       "46764                                 Megler/Tufte/Maier   \n",
       "46779     Shirin/Klickstein/Feng/Lin/Hlavacek/Sorrentino   \n",
       "46780     Shirin/Klickstein/Feng/Lin/Hlavacek/Sorrentino   \n",
       "46784                Bellver/Giro-i-Nieto/Marques/Torres   \n",
       "46794                                  Shalev/Adi/Keshet   \n",
       "46802                         Meira/Martins/Menzori/Zeni   \n",
       "46803                         Meira/Martins/Menzori/Zeni   \n",
       "46806                               Moyer/Thompson/Steeg   \n",
       "46813                                         Chen/Mitra   \n",
       "46823                              Way/Larremore/Clauset   \n",
       "46830    Nguyen/Dudouet/Colazzo/Vion/Manolescu/Senellart   \n",
       "46834                           Yu/Lu/Liu/Zhao/Wen/Zheng   \n",
       "46840                         Bapna/Tur/Hakkani-Tur/Heck   \n",
       "46846                                   Lo/Hang/Chan/Lin   \n",
       "46847                                   Lo/Hang/Chan/Lin   \n",
       "46852                                          Wu/Lerman   \n",
       "46859                            Takabe/Wadayama/Hayashi   \n",
       "46861                            Takabe/Wadayama/Hayashi   \n",
       "\n",
       "                                              Categories Created Date  \\\n",
       "1                                   cs.CR/cs.AI/q-bio.NC   2018-01-11   \n",
       "6                                    cs.SY/cs.RO/math.OC   2016-09-21   \n",
       "12                                                 cs.CV   2018-07-07   \n",
       "22                                                 cs.HC   2018-08-29   \n",
       "23                                                 cs.HC   2018-08-29   \n",
       "45                                                 cs.CV   2017-03-20   \n",
       "46                                   stat.ML/cs.CL/cs.LG   2017-11-24   \n",
       "52                                   cs.LG/cs.AI/stat.ML   2017-10-31   \n",
       "53                                   cs.LG/cs.AI/stat.ML   2017-10-31   \n",
       "57                                                 cs.OH   2011-11-08   \n",
       "67                                q-bio.NC/cs.NE/stat.ML   2017-03-12   \n",
       "70                                q-bio.NC/cs.NE/stat.ML   2017-03-12   \n",
       "71                                q-bio.NC/cs.NE/stat.ML   2017-03-12   \n",
       "73                                         cs.IT/math.IT   2011-10-10   \n",
       "80                             cs.SY/cs.DC/cs.RO/math.OC   2016-10-13   \n",
       "85                                                 cs.CV   2018-09-17   \n",
       "88                                                 cs.CV   2018-09-17   \n",
       "106                                                cs.NI   2018-03-12   \n",
       "107                                                cs.NI   2018-03-12   \n",
       "109                                                cs.NI   2018-03-12   \n",
       "112                                                cs.CV   2011-04-28   \n",
       "121    cs.CL/cond-mat.stat-mech/cs.CY/physics.soc-ph/...   2017-07-03   \n",
       "135                            cs.LG/cs.AI/cs.SI/stat.ML   2018-05-03   \n",
       "136                            cs.LG/cs.AI/cs.SI/stat.ML   2018-05-03   \n",
       "141                                        cs.CR/math.GR   2016-10-20   \n",
       "143                                        cs.CR/math.GR   2016-10-20   \n",
       "147                                                cs.CL   2018-07-22   \n",
       "153                                 cs.SI/physics.soc-ph   2017-03-22   \n",
       "166                                                cs.CY   2018-05-28   \n",
       "167                                                cs.CY   2018-05-28   \n",
       "...                                                  ...          ...   \n",
       "46702                                        cs.CV/cs.LG   2016-03-28   \n",
       "46705                                        cs.CV/cs.LG   2016-03-28   \n",
       "46709                                        cs.PL/cs.SE   2007-12-19   \n",
       "46716                                      eess.IV/cs.CV   2018-10-14   \n",
       "46721                                      eess.IV/cs.CV   2018-10-14   \n",
       "46727                                              cs.CR   2016-02-05   \n",
       "46728                                              cs.CR   2016-02-05   \n",
       "46732                         physics.soc-ph/cs.DM/cs.SI   2011-05-17   \n",
       "46735                                  cs.IR/cs.AI/cs.DB   2014-07-02   \n",
       "46744                              cs.CE/physics.comp-ph   2018-03-28   \n",
       "46745                              cs.CE/physics.comp-ph   2018-03-28   \n",
       "46751                                      cs.LG/stat.ML   2018-06-19   \n",
       "46764                                              cs.OH   2016-02-09   \n",
       "46779                                              cs.SY   2018-07-31   \n",
       "46780                                              cs.SY   2018-07-31   \n",
       "46784                                        cs.CV/cs.LG   2016-11-11   \n",
       "46794                                      stat.ML/cs.LG   2018-08-20   \n",
       "46802                                        cs.AI/cs.CC   2017-12-23   \n",
       "46803                                        cs.AI/cs.CC   2017-12-23   \n",
       "46806                    q-bio.QM/cs.LG/q-bio.TO/stat.AP   2018-06-12   \n",
       "46813                                      cs.IT/math.IT   2017-01-27   \n",
       "46823                 cs.SI/cs.CY/physics.soc-ph/stat.AP   2016-02-02   \n",
       "46830                                              cs.DB   2010-02-04   \n",
       "46834                                        cs.LG/cs.SI   2017-10-08   \n",
       "46840                                        cs.AI/cs.CL   2017-07-07   \n",
       "46846                                              cs.CV   2018-09-17   \n",
       "46847                                              cs.CV   2018-09-17   \n",
       "46852                                        cs.SI/cs.LG   2017-09-07   \n",
       "46859                                      cs.IT/math.IT   2018-07-03   \n",
       "46861                                      cs.IT/math.IT   2018-07-03   \n",
       "\n",
       "                                                   Label  \n",
       "1                                             OBJECTIVES  \n",
       "6                                             OBJECTIVES  \n",
       "12                                            OBJECTIVES  \n",
       "22                                            OBJECTIVES  \n",
       "23                                            OBJECTIVES  \n",
       "45                        OBJECTIVES/RESULTS/CONCLUSIONS  \n",
       "46                                    OBJECTIVES/METHODS  \n",
       "52                                 BACKGROUND/OBJECTIVES  \n",
       "53                                    OBJECTIVES/METHODS  \n",
       "57                                            OBJECTIVES  \n",
       "67                                 BACKGROUND/OBJECTIVES  \n",
       "70                            OBJECTIVES/METHODS/RESULTS  \n",
       "71                OBJECTIVES/METHODS/RESULTS/CONCLUSIONS  \n",
       "73                                            OBJECTIVES  \n",
       "80                                            OBJECTIVES  \n",
       "85                                            OBJECTIVES  \n",
       "88                                            OBJECTIVES  \n",
       "106                                           OBJECTIVES  \n",
       "107                                           OBJECTIVES  \n",
       "109                                           OBJECTIVES  \n",
       "112                                           OBJECTIVES  \n",
       "121                                           OBJECTIVES  \n",
       "135                                           OBJECTIVES  \n",
       "136                                   OBJECTIVES/METHODS  \n",
       "141                                           OBJECTIVES  \n",
       "143                                           OBJECTIVES  \n",
       "147                                           OBJECTIVES  \n",
       "153                                           OBJECTIVES  \n",
       "166                                           OBJECTIVES  \n",
       "167                                           OBJECTIVES  \n",
       "...                                                  ...  \n",
       "46702                                         OBJECTIVES  \n",
       "46705                                         OBJECTIVES  \n",
       "46709                                         OBJECTIVES  \n",
       "46716                              BACKGROUND/OBJECTIVES  \n",
       "46721                                         OBJECTIVES  \n",
       "46727                                         OBJECTIVES  \n",
       "46728                                         OBJECTIVES  \n",
       "46732                                         OBJECTIVES  \n",
       "46735                                         OBJECTIVES  \n",
       "46744                                         OBJECTIVES  \n",
       "46745                                         OBJECTIVES  \n",
       "46751                                         OBJECTIVES  \n",
       "46764                                         OBJECTIVES  \n",
       "46779  BACKGROUND/OBJECTIVES/METHODS/RESULTS/CONCLUSIONS  \n",
       "46780  BACKGROUND/OBJECTIVES/METHODS/RESULTS/CONCLUSIONS  \n",
       "46784                                         OBJECTIVES  \n",
       "46794                                         OBJECTIVES  \n",
       "46802                                 OBJECTIVES/RESULTS  \n",
       "46803                                         OBJECTIVES  \n",
       "46806                                         OBJECTIVES  \n",
       "46813                                         OBJECTIVES  \n",
       "46823                                 OBJECTIVES/METHODS  \n",
       "46830                                         OBJECTIVES  \n",
       "46834                                         OBJECTIVES  \n",
       "46840                                         OBJECTIVES  \n",
       "46846                                         OBJECTIVES  \n",
       "46847                                         OBJECTIVES  \n",
       "46852                                         OBJECTIVES  \n",
       "46859                              BACKGROUND/OBJECTIVES  \n",
       "46861                                         OBJECTIVES  \n",
       "\n",
       "[9329 rows x 7 columns]"
      ]
     },
     "execution_count": 44,
     "metadata": {},
     "output_type": "execute_result"
    }
   ],
   "source": [
    "df_extend.iloc[obj_ind]"
   ]
  },
  {
   "cell_type": "code",
   "execution_count": 110,
   "metadata": {},
   "outputs": [],
   "source": [
    "bg_vectorizer = CountVectorizer()\n",
    "bg_tf = bg_vectorizer.fit_transform(df_extend['Sentences'].iloc[bg_ind])\n",
    "\n",
    "obj_vectorizer = CountVectorizer()\n",
    "obj_tf = obj_vectorizer.fit_transform(df_extend['Sentences'].iloc[obj_ind])\n",
    "\n",
    "method_vectorizer = CountVectorizer()\n",
    "method_tf = method_vectorizer.fit_transform(df_extend['Sentences'].iloc[method_ind])\n",
    "\n",
    "result_vectorizer = CountVectorizer()\n",
    "result_tf = result_vectorizer.fit_transform(df_extend['Sentences'].iloc[result_ind])\n",
    "\n",
    "con_vectorizer = CountVectorizer()\n",
    "con_tf = con_vectorizer.fit_transform(df_extend['Sentences'].iloc[con_ind])\n",
    "\n",
    "other_vectorizer = CountVectorizer()\n",
    "other_tf = other_vectorizer.fit_transform(df_extend['Sentences'].iloc[other_ind])"
   ]
  },
  {
   "cell_type": "code",
   "execution_count": 117,
   "metadata": {},
   "outputs": [
    {
     "data": {
      "text/plain": [
       "'tmp'"
      ]
     },
     "execution_count": 117,
     "metadata": {},
     "output_type": "execute_result"
    }
   ],
   "source": [
    "obj_vectorizer.get_feature_names()[12703]"
   ]
  },
  {
   "cell_type": "code",
   "execution_count": 118,
   "metadata": {},
   "outputs": [
    {
     "data": {
      "text/plain": [
       "<9329x1 sparse matrix of type '<class 'numpy.int64'>'\n",
       "\twith 1 stored elements in Compressed Sparse Row format>"
      ]
     },
     "execution_count": 118,
     "metadata": {},
     "output_type": "execute_result"
    }
   ],
   "source": [
    "obj_tf[:,12703]"
   ]
  },
  {
   "cell_type": "code",
   "execution_count": 133,
   "metadata": {},
   "outputs": [],
   "source": [
    "bg_container = bg_tf.toarray().sum(axis=0)\n",
    "obj_container = obj_tf.toarray().sum(axis=0)\n",
    "method_container = method_tf.toarray().sum(axis=0)\n",
    "result_container = result_tf.toarray().sum(axis=0)\n",
    "con_container = con_tf.toarray().sum(axis=0)\n",
    "other_container = other_tf.toarray().sum(axis=0)"
   ]
  },
  {
   "cell_type": "code",
   "execution_count": 136,
   "metadata": {},
   "outputs": [],
   "source": [
    "# plot the tf distribution graph\n",
    "# you can decide which class to visualize\n",
    "# based on the top N most frequently appeared words\n",
    "\n",
    "def get_words_log(container,vectorizer,count):\n",
    "    #tmp = [math.log(j) for j in container]\n",
    "    tmp=container\n",
    "    y = vectorizer.get_feature_names()\n",
    "    \n",
    "    plot_x = []\n",
    "    plot_y = []\n",
    "    \n",
    "    for i in range(count):\n",
    "        ind = np.argmax(tmp)\n",
    "        plot_x.append(y[ind])\n",
    "        plot_y.append(tmp[ind])\n",
    "        tmp = np.delete(tmp,ind)\n",
    "        y = np.delete(y,ind)\n",
    "        \n",
    "    fig = go.Figure([go.Bar(name = 'term_frequency',x=plot_x, y=plot_y)])\n",
    "    fig.update_traces(marker_color='rgb(0,0,225)',\n",
    "                      marker_line_width=1.5, opacity=0.6)\n",
    "    fig.update_layout(title_text='objectives_term_frequency',xaxis={'categoryorder':'total descending'})\n",
    "    fig.show()        "
   ]
  },
  {
   "cell_type": "code",
   "execution_count": 137,
   "metadata": {},
   "outputs": [
    {
     "data": {
      "application/vnd.plotly.v1+json": {
       "config": {
        "plotlyServerURL": "https://plot.ly"
       },
       "data": [
        {
         "marker": {
          "color": "rgb(0,0,225)",
          "line": {
           "width": 1.5
          }
         },
         "name": "term_frequency",
         "opacity": 0.6,
         "type": "bar",
         "x": [
          "the",
          "of",
          "to",
          "in",
          "and",
          "we",
          "this",
          "for",
          "is",
          "paper",
          "that",
          "on",
          "with",
          "an",
          "by",
          "as",
          "are",
          "which",
          "based",
          "propose",
          "from",
          "data",
          "be",
          "can",
          "problem",
          "learning",
          "model",
          "network",
          "present",
          "work",
          "using",
          "it",
          "such",
          "study",
          "new",
          "time",
          "system",
          "networks",
          "approach",
          "or",
          "information",
          "these",
          "method",
          "algorithm",
          "novel",
          "two",
          "our",
          "framework",
          "at",
          "neural"
         ],
         "y": [
          12128,
          8746,
          6165,
          5757,
          5714,
          4622,
          4082,
          3221,
          2654,
          2312,
          2023,
          1907,
          1477,
          1438,
          1305,
          1232,
          1114,
          1063,
          1013,
          983,
          969,
          956,
          915,
          863,
          779,
          771,
          759,
          747,
          659,
          642,
          621,
          606,
          582,
          563,
          558,
          542,
          525,
          520,
          518,
          509,
          505,
          491,
          489,
          483,
          481,
          455,
          441,
          429,
          423,
          422
         ]
        }
       ],
       "layout": {
        "template": {
         "data": {
          "bar": [
           {
            "error_x": {
             "color": "#2a3f5f"
            },
            "error_y": {
             "color": "#2a3f5f"
            },
            "marker": {
             "line": {
              "color": "#E5ECF6",
              "width": 0.5
             }
            },
            "type": "bar"
           }
          ],
          "barpolar": [
           {
            "marker": {
             "line": {
              "color": "#E5ECF6",
              "width": 0.5
             }
            },
            "type": "barpolar"
           }
          ],
          "carpet": [
           {
            "aaxis": {
             "endlinecolor": "#2a3f5f",
             "gridcolor": "white",
             "linecolor": "white",
             "minorgridcolor": "white",
             "startlinecolor": "#2a3f5f"
            },
            "baxis": {
             "endlinecolor": "#2a3f5f",
             "gridcolor": "white",
             "linecolor": "white",
             "minorgridcolor": "white",
             "startlinecolor": "#2a3f5f"
            },
            "type": "carpet"
           }
          ],
          "choropleth": [
           {
            "colorbar": {
             "outlinewidth": 0,
             "ticks": ""
            },
            "type": "choropleth"
           }
          ],
          "contour": [
           {
            "colorbar": {
             "outlinewidth": 0,
             "ticks": ""
            },
            "colorscale": [
             [
              0,
              "#0d0887"
             ],
             [
              0.1111111111111111,
              "#46039f"
             ],
             [
              0.2222222222222222,
              "#7201a8"
             ],
             [
              0.3333333333333333,
              "#9c179e"
             ],
             [
              0.4444444444444444,
              "#bd3786"
             ],
             [
              0.5555555555555556,
              "#d8576b"
             ],
             [
              0.6666666666666666,
              "#ed7953"
             ],
             [
              0.7777777777777778,
              "#fb9f3a"
             ],
             [
              0.8888888888888888,
              "#fdca26"
             ],
             [
              1,
              "#f0f921"
             ]
            ],
            "type": "contour"
           }
          ],
          "contourcarpet": [
           {
            "colorbar": {
             "outlinewidth": 0,
             "ticks": ""
            },
            "type": "contourcarpet"
           }
          ],
          "heatmap": [
           {
            "colorbar": {
             "outlinewidth": 0,
             "ticks": ""
            },
            "colorscale": [
             [
              0,
              "#0d0887"
             ],
             [
              0.1111111111111111,
              "#46039f"
             ],
             [
              0.2222222222222222,
              "#7201a8"
             ],
             [
              0.3333333333333333,
              "#9c179e"
             ],
             [
              0.4444444444444444,
              "#bd3786"
             ],
             [
              0.5555555555555556,
              "#d8576b"
             ],
             [
              0.6666666666666666,
              "#ed7953"
             ],
             [
              0.7777777777777778,
              "#fb9f3a"
             ],
             [
              0.8888888888888888,
              "#fdca26"
             ],
             [
              1,
              "#f0f921"
             ]
            ],
            "type": "heatmap"
           }
          ],
          "heatmapgl": [
           {
            "colorbar": {
             "outlinewidth": 0,
             "ticks": ""
            },
            "colorscale": [
             [
              0,
              "#0d0887"
             ],
             [
              0.1111111111111111,
              "#46039f"
             ],
             [
              0.2222222222222222,
              "#7201a8"
             ],
             [
              0.3333333333333333,
              "#9c179e"
             ],
             [
              0.4444444444444444,
              "#bd3786"
             ],
             [
              0.5555555555555556,
              "#d8576b"
             ],
             [
              0.6666666666666666,
              "#ed7953"
             ],
             [
              0.7777777777777778,
              "#fb9f3a"
             ],
             [
              0.8888888888888888,
              "#fdca26"
             ],
             [
              1,
              "#f0f921"
             ]
            ],
            "type": "heatmapgl"
           }
          ],
          "histogram": [
           {
            "marker": {
             "colorbar": {
              "outlinewidth": 0,
              "ticks": ""
             }
            },
            "type": "histogram"
           }
          ],
          "histogram2d": [
           {
            "colorbar": {
             "outlinewidth": 0,
             "ticks": ""
            },
            "colorscale": [
             [
              0,
              "#0d0887"
             ],
             [
              0.1111111111111111,
              "#46039f"
             ],
             [
              0.2222222222222222,
              "#7201a8"
             ],
             [
              0.3333333333333333,
              "#9c179e"
             ],
             [
              0.4444444444444444,
              "#bd3786"
             ],
             [
              0.5555555555555556,
              "#d8576b"
             ],
             [
              0.6666666666666666,
              "#ed7953"
             ],
             [
              0.7777777777777778,
              "#fb9f3a"
             ],
             [
              0.8888888888888888,
              "#fdca26"
             ],
             [
              1,
              "#f0f921"
             ]
            ],
            "type": "histogram2d"
           }
          ],
          "histogram2dcontour": [
           {
            "colorbar": {
             "outlinewidth": 0,
             "ticks": ""
            },
            "colorscale": [
             [
              0,
              "#0d0887"
             ],
             [
              0.1111111111111111,
              "#46039f"
             ],
             [
              0.2222222222222222,
              "#7201a8"
             ],
             [
              0.3333333333333333,
              "#9c179e"
             ],
             [
              0.4444444444444444,
              "#bd3786"
             ],
             [
              0.5555555555555556,
              "#d8576b"
             ],
             [
              0.6666666666666666,
              "#ed7953"
             ],
             [
              0.7777777777777778,
              "#fb9f3a"
             ],
             [
              0.8888888888888888,
              "#fdca26"
             ],
             [
              1,
              "#f0f921"
             ]
            ],
            "type": "histogram2dcontour"
           }
          ],
          "mesh3d": [
           {
            "colorbar": {
             "outlinewidth": 0,
             "ticks": ""
            },
            "type": "mesh3d"
           }
          ],
          "parcoords": [
           {
            "line": {
             "colorbar": {
              "outlinewidth": 0,
              "ticks": ""
             }
            },
            "type": "parcoords"
           }
          ],
          "scatter": [
           {
            "marker": {
             "colorbar": {
              "outlinewidth": 0,
              "ticks": ""
             }
            },
            "type": "scatter"
           }
          ],
          "scatter3d": [
           {
            "line": {
             "colorbar": {
              "outlinewidth": 0,
              "ticks": ""
             }
            },
            "marker": {
             "colorbar": {
              "outlinewidth": 0,
              "ticks": ""
             }
            },
            "type": "scatter3d"
           }
          ],
          "scattercarpet": [
           {
            "marker": {
             "colorbar": {
              "outlinewidth": 0,
              "ticks": ""
             }
            },
            "type": "scattercarpet"
           }
          ],
          "scattergeo": [
           {
            "marker": {
             "colorbar": {
              "outlinewidth": 0,
              "ticks": ""
             }
            },
            "type": "scattergeo"
           }
          ],
          "scattergl": [
           {
            "marker": {
             "colorbar": {
              "outlinewidth": 0,
              "ticks": ""
             }
            },
            "type": "scattergl"
           }
          ],
          "scattermapbox": [
           {
            "marker": {
             "colorbar": {
              "outlinewidth": 0,
              "ticks": ""
             }
            },
            "type": "scattermapbox"
           }
          ],
          "scatterpolar": [
           {
            "marker": {
             "colorbar": {
              "outlinewidth": 0,
              "ticks": ""
             }
            },
            "type": "scatterpolar"
           }
          ],
          "scatterpolargl": [
           {
            "marker": {
             "colorbar": {
              "outlinewidth": 0,
              "ticks": ""
             }
            },
            "type": "scatterpolargl"
           }
          ],
          "scatterternary": [
           {
            "marker": {
             "colorbar": {
              "outlinewidth": 0,
              "ticks": ""
             }
            },
            "type": "scatterternary"
           }
          ],
          "surface": [
           {
            "colorbar": {
             "outlinewidth": 0,
             "ticks": ""
            },
            "colorscale": [
             [
              0,
              "#0d0887"
             ],
             [
              0.1111111111111111,
              "#46039f"
             ],
             [
              0.2222222222222222,
              "#7201a8"
             ],
             [
              0.3333333333333333,
              "#9c179e"
             ],
             [
              0.4444444444444444,
              "#bd3786"
             ],
             [
              0.5555555555555556,
              "#d8576b"
             ],
             [
              0.6666666666666666,
              "#ed7953"
             ],
             [
              0.7777777777777778,
              "#fb9f3a"
             ],
             [
              0.8888888888888888,
              "#fdca26"
             ],
             [
              1,
              "#f0f921"
             ]
            ],
            "type": "surface"
           }
          ],
          "table": [
           {
            "cells": {
             "fill": {
              "color": "#EBF0F8"
             },
             "line": {
              "color": "white"
             }
            },
            "header": {
             "fill": {
              "color": "#C8D4E3"
             },
             "line": {
              "color": "white"
             }
            },
            "type": "table"
           }
          ]
         },
         "layout": {
          "annotationdefaults": {
           "arrowcolor": "#2a3f5f",
           "arrowhead": 0,
           "arrowwidth": 1
          },
          "colorscale": {
           "diverging": [
            [
             0,
             "#8e0152"
            ],
            [
             0.1,
             "#c51b7d"
            ],
            [
             0.2,
             "#de77ae"
            ],
            [
             0.3,
             "#f1b6da"
            ],
            [
             0.4,
             "#fde0ef"
            ],
            [
             0.5,
             "#f7f7f7"
            ],
            [
             0.6,
             "#e6f5d0"
            ],
            [
             0.7,
             "#b8e186"
            ],
            [
             0.8,
             "#7fbc41"
            ],
            [
             0.9,
             "#4d9221"
            ],
            [
             1,
             "#276419"
            ]
           ],
           "sequential": [
            [
             0,
             "#0d0887"
            ],
            [
             0.1111111111111111,
             "#46039f"
            ],
            [
             0.2222222222222222,
             "#7201a8"
            ],
            [
             0.3333333333333333,
             "#9c179e"
            ],
            [
             0.4444444444444444,
             "#bd3786"
            ],
            [
             0.5555555555555556,
             "#d8576b"
            ],
            [
             0.6666666666666666,
             "#ed7953"
            ],
            [
             0.7777777777777778,
             "#fb9f3a"
            ],
            [
             0.8888888888888888,
             "#fdca26"
            ],
            [
             1,
             "#f0f921"
            ]
           ],
           "sequentialminus": [
            [
             0,
             "#0d0887"
            ],
            [
             0.1111111111111111,
             "#46039f"
            ],
            [
             0.2222222222222222,
             "#7201a8"
            ],
            [
             0.3333333333333333,
             "#9c179e"
            ],
            [
             0.4444444444444444,
             "#bd3786"
            ],
            [
             0.5555555555555556,
             "#d8576b"
            ],
            [
             0.6666666666666666,
             "#ed7953"
            ],
            [
             0.7777777777777778,
             "#fb9f3a"
            ],
            [
             0.8888888888888888,
             "#fdca26"
            ],
            [
             1,
             "#f0f921"
            ]
           ]
          },
          "colorway": [
           "#636efa",
           "#EF553B",
           "#00cc96",
           "#ab63fa",
           "#FFA15A",
           "#19d3f3",
           "#FF6692",
           "#B6E880",
           "#FF97FF",
           "#FECB52"
          ],
          "font": {
           "color": "#2a3f5f"
          },
          "geo": {
           "bgcolor": "white",
           "lakecolor": "white",
           "landcolor": "#E5ECF6",
           "showlakes": true,
           "showland": true,
           "subunitcolor": "white"
          },
          "hoverlabel": {
           "align": "left"
          },
          "hovermode": "closest",
          "mapbox": {
           "style": "light"
          },
          "paper_bgcolor": "white",
          "plot_bgcolor": "#E5ECF6",
          "polar": {
           "angularaxis": {
            "gridcolor": "white",
            "linecolor": "white",
            "ticks": ""
           },
           "bgcolor": "#E5ECF6",
           "radialaxis": {
            "gridcolor": "white",
            "linecolor": "white",
            "ticks": ""
           }
          },
          "scene": {
           "xaxis": {
            "backgroundcolor": "#E5ECF6",
            "gridcolor": "white",
            "gridwidth": 2,
            "linecolor": "white",
            "showbackground": true,
            "ticks": "",
            "zerolinecolor": "white"
           },
           "yaxis": {
            "backgroundcolor": "#E5ECF6",
            "gridcolor": "white",
            "gridwidth": 2,
            "linecolor": "white",
            "showbackground": true,
            "ticks": "",
            "zerolinecolor": "white"
           },
           "zaxis": {
            "backgroundcolor": "#E5ECF6",
            "gridcolor": "white",
            "gridwidth": 2,
            "linecolor": "white",
            "showbackground": true,
            "ticks": "",
            "zerolinecolor": "white"
           }
          },
          "shapedefaults": {
           "line": {
            "color": "#2a3f5f"
           }
          },
          "ternary": {
           "aaxis": {
            "gridcolor": "white",
            "linecolor": "white",
            "ticks": ""
           },
           "baxis": {
            "gridcolor": "white",
            "linecolor": "white",
            "ticks": ""
           },
           "bgcolor": "#E5ECF6",
           "caxis": {
            "gridcolor": "white",
            "linecolor": "white",
            "ticks": ""
           }
          },
          "title": {
           "x": 0.05
          },
          "xaxis": {
           "automargin": true,
           "gridcolor": "white",
           "linecolor": "white",
           "ticks": "",
           "zerolinecolor": "white",
           "zerolinewidth": 2
          },
          "yaxis": {
           "automargin": true,
           "gridcolor": "white",
           "linecolor": "white",
           "ticks": "",
           "zerolinecolor": "white",
           "zerolinewidth": 2
          }
         }
        },
        "title": {
         "text": "objectives_term_frequency"
        },
        "xaxis": {
         "categoryorder": "total descending"
        }
       }
      },
      "text/html": [
       "<div>\n",
       "        \n",
       "        \n",
       "            <div id=\"76307ea5-2b79-46b9-8325-272ab1130c15\" class=\"plotly-graph-div\" style=\"height:525px; width:100%;\"></div>\n",
       "            <script type=\"text/javascript\">\n",
       "                require([\"plotly\"], function(Plotly) {\n",
       "                    window.PLOTLYENV=window.PLOTLYENV || {};\n",
       "                    \n",
       "                if (document.getElementById(\"76307ea5-2b79-46b9-8325-272ab1130c15\")) {\n",
       "                    Plotly.newPlot(\n",
       "                        '76307ea5-2b79-46b9-8325-272ab1130c15',\n",
       "                        [{\"marker\": {\"color\": \"rgb(0,0,225)\", \"line\": {\"width\": 1.5}}, \"name\": \"term_frequency\", \"opacity\": 0.6, \"type\": \"bar\", \"x\": [\"the\", \"of\", \"to\", \"in\", \"and\", \"we\", \"this\", \"for\", \"is\", \"paper\", \"that\", \"on\", \"with\", \"an\", \"by\", \"as\", \"are\", \"which\", \"based\", \"propose\", \"from\", \"data\", \"be\", \"can\", \"problem\", \"learning\", \"model\", \"network\", \"present\", \"work\", \"using\", \"it\", \"such\", \"study\", \"new\", \"time\", \"system\", \"networks\", \"approach\", \"or\", \"information\", \"these\", \"method\", \"algorithm\", \"novel\", \"two\", \"our\", \"framework\", \"at\", \"neural\"], \"y\": [12128, 8746, 6165, 5757, 5714, 4622, 4082, 3221, 2654, 2312, 2023, 1907, 1477, 1438, 1305, 1232, 1114, 1063, 1013, 983, 969, 956, 915, 863, 779, 771, 759, 747, 659, 642, 621, 606, 582, 563, 558, 542, 525, 520, 518, 509, 505, 491, 489, 483, 481, 455, 441, 429, 423, 422]}],\n",
       "                        {\"template\": {\"data\": {\"bar\": [{\"error_x\": {\"color\": \"#2a3f5f\"}, \"error_y\": {\"color\": \"#2a3f5f\"}, \"marker\": {\"line\": {\"color\": \"#E5ECF6\", \"width\": 0.5}}, \"type\": \"bar\"}], \"barpolar\": [{\"marker\": {\"line\": {\"color\": \"#E5ECF6\", \"width\": 0.5}}, \"type\": \"barpolar\"}], \"carpet\": [{\"aaxis\": {\"endlinecolor\": \"#2a3f5f\", \"gridcolor\": \"white\", \"linecolor\": \"white\", \"minorgridcolor\": \"white\", \"startlinecolor\": \"#2a3f5f\"}, \"baxis\": {\"endlinecolor\": \"#2a3f5f\", \"gridcolor\": \"white\", \"linecolor\": \"white\", \"minorgridcolor\": \"white\", \"startlinecolor\": \"#2a3f5f\"}, \"type\": \"carpet\"}], \"choropleth\": [{\"colorbar\": {\"outlinewidth\": 0, \"ticks\": \"\"}, \"type\": \"choropleth\"}], \"contour\": [{\"colorbar\": {\"outlinewidth\": 0, \"ticks\": \"\"}, \"colorscale\": [[0.0, \"#0d0887\"], [0.1111111111111111, \"#46039f\"], [0.2222222222222222, \"#7201a8\"], [0.3333333333333333, \"#9c179e\"], [0.4444444444444444, \"#bd3786\"], [0.5555555555555556, \"#d8576b\"], [0.6666666666666666, \"#ed7953\"], [0.7777777777777778, \"#fb9f3a\"], [0.8888888888888888, \"#fdca26\"], [1.0, \"#f0f921\"]], \"type\": \"contour\"}], \"contourcarpet\": [{\"colorbar\": {\"outlinewidth\": 0, \"ticks\": \"\"}, \"type\": \"contourcarpet\"}], \"heatmap\": [{\"colorbar\": {\"outlinewidth\": 0, \"ticks\": \"\"}, \"colorscale\": [[0.0, \"#0d0887\"], [0.1111111111111111, \"#46039f\"], [0.2222222222222222, \"#7201a8\"], [0.3333333333333333, \"#9c179e\"], [0.4444444444444444, \"#bd3786\"], [0.5555555555555556, \"#d8576b\"], [0.6666666666666666, \"#ed7953\"], [0.7777777777777778, \"#fb9f3a\"], [0.8888888888888888, \"#fdca26\"], [1.0, \"#f0f921\"]], \"type\": \"heatmap\"}], \"heatmapgl\": [{\"colorbar\": {\"outlinewidth\": 0, \"ticks\": \"\"}, \"colorscale\": [[0.0, \"#0d0887\"], [0.1111111111111111, \"#46039f\"], [0.2222222222222222, \"#7201a8\"], [0.3333333333333333, \"#9c179e\"], [0.4444444444444444, \"#bd3786\"], [0.5555555555555556, \"#d8576b\"], [0.6666666666666666, \"#ed7953\"], [0.7777777777777778, \"#fb9f3a\"], [0.8888888888888888, \"#fdca26\"], [1.0, \"#f0f921\"]], \"type\": \"heatmapgl\"}], \"histogram\": [{\"marker\": {\"colorbar\": {\"outlinewidth\": 0, \"ticks\": \"\"}}, \"type\": \"histogram\"}], \"histogram2d\": [{\"colorbar\": {\"outlinewidth\": 0, \"ticks\": \"\"}, \"colorscale\": [[0.0, \"#0d0887\"], [0.1111111111111111, \"#46039f\"], [0.2222222222222222, \"#7201a8\"], [0.3333333333333333, \"#9c179e\"], [0.4444444444444444, \"#bd3786\"], [0.5555555555555556, \"#d8576b\"], [0.6666666666666666, \"#ed7953\"], [0.7777777777777778, \"#fb9f3a\"], [0.8888888888888888, \"#fdca26\"], [1.0, \"#f0f921\"]], \"type\": \"histogram2d\"}], \"histogram2dcontour\": [{\"colorbar\": {\"outlinewidth\": 0, \"ticks\": \"\"}, \"colorscale\": [[0.0, \"#0d0887\"], [0.1111111111111111, \"#46039f\"], [0.2222222222222222, \"#7201a8\"], [0.3333333333333333, \"#9c179e\"], [0.4444444444444444, \"#bd3786\"], [0.5555555555555556, \"#d8576b\"], [0.6666666666666666, \"#ed7953\"], [0.7777777777777778, \"#fb9f3a\"], [0.8888888888888888, \"#fdca26\"], [1.0, \"#f0f921\"]], \"type\": \"histogram2dcontour\"}], \"mesh3d\": [{\"colorbar\": {\"outlinewidth\": 0, \"ticks\": \"\"}, \"type\": \"mesh3d\"}], \"parcoords\": [{\"line\": {\"colorbar\": {\"outlinewidth\": 0, \"ticks\": \"\"}}, \"type\": \"parcoords\"}], \"scatter\": [{\"marker\": {\"colorbar\": {\"outlinewidth\": 0, \"ticks\": \"\"}}, \"type\": \"scatter\"}], \"scatter3d\": [{\"line\": {\"colorbar\": {\"outlinewidth\": 0, \"ticks\": \"\"}}, \"marker\": {\"colorbar\": {\"outlinewidth\": 0, \"ticks\": \"\"}}, \"type\": \"scatter3d\"}], \"scattercarpet\": [{\"marker\": {\"colorbar\": {\"outlinewidth\": 0, \"ticks\": \"\"}}, \"type\": \"scattercarpet\"}], \"scattergeo\": [{\"marker\": {\"colorbar\": {\"outlinewidth\": 0, \"ticks\": \"\"}}, \"type\": \"scattergeo\"}], \"scattergl\": [{\"marker\": {\"colorbar\": {\"outlinewidth\": 0, \"ticks\": \"\"}}, \"type\": \"scattergl\"}], \"scattermapbox\": [{\"marker\": {\"colorbar\": {\"outlinewidth\": 0, \"ticks\": \"\"}}, \"type\": \"scattermapbox\"}], \"scatterpolar\": [{\"marker\": {\"colorbar\": {\"outlinewidth\": 0, \"ticks\": \"\"}}, \"type\": \"scatterpolar\"}], \"scatterpolargl\": [{\"marker\": {\"colorbar\": {\"outlinewidth\": 0, \"ticks\": \"\"}}, \"type\": \"scatterpolargl\"}], \"scatterternary\": [{\"marker\": {\"colorbar\": {\"outlinewidth\": 0, \"ticks\": \"\"}}, \"type\": \"scatterternary\"}], \"surface\": [{\"colorbar\": {\"outlinewidth\": 0, \"ticks\": \"\"}, \"colorscale\": [[0.0, \"#0d0887\"], [0.1111111111111111, \"#46039f\"], [0.2222222222222222, \"#7201a8\"], [0.3333333333333333, \"#9c179e\"], [0.4444444444444444, \"#bd3786\"], [0.5555555555555556, \"#d8576b\"], [0.6666666666666666, \"#ed7953\"], [0.7777777777777778, \"#fb9f3a\"], [0.8888888888888888, \"#fdca26\"], [1.0, \"#f0f921\"]], \"type\": \"surface\"}], \"table\": [{\"cells\": {\"fill\": {\"color\": \"#EBF0F8\"}, \"line\": {\"color\": \"white\"}}, \"header\": {\"fill\": {\"color\": \"#C8D4E3\"}, \"line\": {\"color\": \"white\"}}, \"type\": \"table\"}]}, \"layout\": {\"annotationdefaults\": {\"arrowcolor\": \"#2a3f5f\", \"arrowhead\": 0, \"arrowwidth\": 1}, \"colorscale\": {\"diverging\": [[0, \"#8e0152\"], [0.1, \"#c51b7d\"], [0.2, \"#de77ae\"], [0.3, \"#f1b6da\"], [0.4, \"#fde0ef\"], [0.5, \"#f7f7f7\"], [0.6, \"#e6f5d0\"], [0.7, \"#b8e186\"], [0.8, \"#7fbc41\"], [0.9, \"#4d9221\"], [1, \"#276419\"]], \"sequential\": [[0.0, \"#0d0887\"], [0.1111111111111111, \"#46039f\"], [0.2222222222222222, \"#7201a8\"], [0.3333333333333333, \"#9c179e\"], [0.4444444444444444, \"#bd3786\"], [0.5555555555555556, \"#d8576b\"], [0.6666666666666666, \"#ed7953\"], [0.7777777777777778, \"#fb9f3a\"], [0.8888888888888888, \"#fdca26\"], [1.0, \"#f0f921\"]], \"sequentialminus\": [[0.0, \"#0d0887\"], [0.1111111111111111, \"#46039f\"], [0.2222222222222222, \"#7201a8\"], [0.3333333333333333, \"#9c179e\"], [0.4444444444444444, \"#bd3786\"], [0.5555555555555556, \"#d8576b\"], [0.6666666666666666, \"#ed7953\"], [0.7777777777777778, \"#fb9f3a\"], [0.8888888888888888, \"#fdca26\"], [1.0, \"#f0f921\"]]}, \"colorway\": [\"#636efa\", \"#EF553B\", \"#00cc96\", \"#ab63fa\", \"#FFA15A\", \"#19d3f3\", \"#FF6692\", \"#B6E880\", \"#FF97FF\", \"#FECB52\"], \"font\": {\"color\": \"#2a3f5f\"}, \"geo\": {\"bgcolor\": \"white\", \"lakecolor\": \"white\", \"landcolor\": \"#E5ECF6\", \"showlakes\": true, \"showland\": true, \"subunitcolor\": \"white\"}, \"hoverlabel\": {\"align\": \"left\"}, \"hovermode\": \"closest\", \"mapbox\": {\"style\": \"light\"}, \"paper_bgcolor\": \"white\", \"plot_bgcolor\": \"#E5ECF6\", \"polar\": {\"angularaxis\": {\"gridcolor\": \"white\", \"linecolor\": \"white\", \"ticks\": \"\"}, \"bgcolor\": \"#E5ECF6\", \"radialaxis\": {\"gridcolor\": \"white\", \"linecolor\": \"white\", \"ticks\": \"\"}}, \"scene\": {\"xaxis\": {\"backgroundcolor\": \"#E5ECF6\", \"gridcolor\": \"white\", \"gridwidth\": 2, \"linecolor\": \"white\", \"showbackground\": true, \"ticks\": \"\", \"zerolinecolor\": \"white\"}, \"yaxis\": {\"backgroundcolor\": \"#E5ECF6\", \"gridcolor\": \"white\", \"gridwidth\": 2, \"linecolor\": \"white\", \"showbackground\": true, \"ticks\": \"\", \"zerolinecolor\": \"white\"}, \"zaxis\": {\"backgroundcolor\": \"#E5ECF6\", \"gridcolor\": \"white\", \"gridwidth\": 2, \"linecolor\": \"white\", \"showbackground\": true, \"ticks\": \"\", \"zerolinecolor\": \"white\"}}, \"shapedefaults\": {\"line\": {\"color\": \"#2a3f5f\"}}, \"ternary\": {\"aaxis\": {\"gridcolor\": \"white\", \"linecolor\": \"white\", \"ticks\": \"\"}, \"baxis\": {\"gridcolor\": \"white\", \"linecolor\": \"white\", \"ticks\": \"\"}, \"bgcolor\": \"#E5ECF6\", \"caxis\": {\"gridcolor\": \"white\", \"linecolor\": \"white\", \"ticks\": \"\"}}, \"title\": {\"x\": 0.05}, \"xaxis\": {\"automargin\": true, \"gridcolor\": \"white\", \"linecolor\": \"white\", \"ticks\": \"\", \"zerolinecolor\": \"white\", \"zerolinewidth\": 2}, \"yaxis\": {\"automargin\": true, \"gridcolor\": \"white\", \"linecolor\": \"white\", \"ticks\": \"\", \"zerolinecolor\": \"white\", \"zerolinewidth\": 2}}}, \"title\": {\"text\": \"objectives_term_frequency\"}, \"xaxis\": {\"categoryorder\": \"total descending\"}},\n",
       "                        {\"responsive\": true}\n",
       "                    ).then(function(){\n",
       "                            \n",
       "var gd = document.getElementById('76307ea5-2b79-46b9-8325-272ab1130c15');\n",
       "var x = new MutationObserver(function (mutations, observer) {{\n",
       "        var display = window.getComputedStyle(gd).display;\n",
       "        if (!display || display === 'none') {{\n",
       "            console.log([gd, 'removed!']);\n",
       "            Plotly.purge(gd);\n",
       "            observer.disconnect();\n",
       "        }}\n",
       "}});\n",
       "\n",
       "// Listen for the removal of the full notebook cells\n",
       "var notebookContainer = gd.closest('#notebook-container');\n",
       "if (notebookContainer) {{\n",
       "    x.observe(notebookContainer, {childList: true});\n",
       "}}\n",
       "\n",
       "// Listen for the clearing of the current output cell\n",
       "var outputEl = gd.closest('.output');\n",
       "if (outputEl) {{\n",
       "    x.observe(outputEl, {childList: true});\n",
       "}}\n",
       "\n",
       "                        })\n",
       "                };\n",
       "                });\n",
       "            </script>\n",
       "        </div>"
      ]
     },
     "metadata": {},
     "output_type": "display_data"
    }
   ],
   "source": [
    "get_words_log(obj_container,obj_vectorizer,50)"
   ]
  },
  {
   "cell_type": "code",
   "execution_count": null,
   "metadata": {},
   "outputs": [],
   "source": []
  },
  {
   "cell_type": "code",
   "execution_count": null,
   "metadata": {},
   "outputs": [],
   "source": []
  }
 ],
 "metadata": {
  "kernelspec": {
   "display_name": "Python 3",
   "language": "python",
   "name": "python3"
  },
  "language_info": {
   "codemirror_mode": {
    "name": "ipython",
    "version": 3
   },
   "file_extension": ".py",
   "mimetype": "text/x-python",
   "name": "python",
   "nbconvert_exporter": "python",
   "pygments_lexer": "ipython3",
   "version": "3.6.8"
  }
 },
 "nbformat": 4,
 "nbformat_minor": 2
}
